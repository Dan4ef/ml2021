{
 "cells": [
  {
   "cell_type": "markdown",
   "source": [
    "# Лабораторна робота 4\r\n",
    "### Студента групи МІТ-31 (підгрупа 1)\r\n",
    "### Байди Данила Андрійовича\r\n",
    "## Завдання\r\n",
    "1. Здійснити загальні операції з використанням TensorFlow (створити набір даних (розмір за власним рішенням) у вигляді тензорів, провести CRUD операції над даними (скаляр, вектор, матриця)).\r\n",
    "2. Згенерувати набір даних для регресії та класифікації з використанням TensorFlow\r\n",
    "3. Здійснити графічний аналіз наборів даних за допомогою Matplotlib\r\n",
    "4. Відповіді оформити .ipynb документом\r\n",
    "5. Викласти у зазначений репозіторій GitHub в окремій папці з назвою Lab4 де має бути .ipynb файл та необхідні файли з даними"
   ],
   "metadata": {}
  },
  {
   "cell_type": "code",
   "execution_count": 8,
   "source": [
    "import tensorflow as tf\r\n",
    "import numpy as np\r\n",
    "import matplotlib.pyplot as plt\r\n",
    "import numpy as np\r\n",
    "import sklearn.metrics as metrics\r\n",
    "import pandas as pd\r\n",
    "import seaborn as sns"
   ],
   "outputs": [],
   "metadata": {}
  },
  {
   "cell_type": "markdown",
   "source": [
    "### Операції з використанням TensorFlow"
   ],
   "metadata": {}
  },
  {
   "cell_type": "code",
   "execution_count": 9,
   "source": [
    "# crud\r\n",
    "# create new\r\n",
    "tf1 = tf.constant([[1, 2], [3, 4]])\r\n",
    "print(tf1)\r\n",
    "\r\n",
    "# read and convert to numPy object\r\n",
    "print(np.square(tf1))\r\n",
    "\r\n",
    "# update little bit\r\n",
    "tf1 = tf1 + 100\r\n",
    "print(tf1)\r\n",
    "\r\n",
    "# delete 2nd row\r\n",
    "tf1_without_2nd_row = tf.gather(tf1, [0])\r\n",
    "print(tf1_without_2nd_row)"
   ],
   "outputs": [
    {
     "output_type": "stream",
     "name": "stdout",
     "text": [
      "tf.Tensor(\n",
      "[[1 2]\n",
      " [3 4]], shape=(2, 2), dtype=int32)\n",
      "[[ 1  4]\n",
      " [ 9 16]]\n",
      "tf.Tensor(\n",
      "[[101 102]\n",
      " [103 104]], shape=(2, 2), dtype=int32)\n",
      "tf.Tensor([[101 102]], shape=(1, 2), dtype=int32)\n"
     ]
    }
   ],
   "metadata": {}
  },
  {
   "cell_type": "code",
   "execution_count": 10,
   "source": [
    "scalar = tf.constant(10)\r\n",
    "scalar"
   ],
   "outputs": [
    {
     "output_type": "execute_result",
     "data": {
      "text/plain": [
       "<tf.Tensor: shape=(), dtype=int32, numpy=10>"
      ]
     },
     "metadata": {},
     "execution_count": 10
    }
   ],
   "metadata": {}
  },
  {
   "cell_type": "code",
   "execution_count": 11,
   "source": [
    "scalar.ndim"
   ],
   "outputs": [
    {
     "output_type": "execute_result",
     "data": {
      "text/plain": [
       "0"
      ]
     },
     "metadata": {},
     "execution_count": 11
    }
   ],
   "metadata": {}
  },
  {
   "cell_type": "code",
   "execution_count": 12,
   "source": [
    "vector = tf.constant([19, 11.2])\r\n",
    "vector"
   ],
   "outputs": [
    {
     "output_type": "execute_result",
     "data": {
      "text/plain": [
       "<tf.Tensor: shape=(2,), dtype=float32, numpy=array([19. , 11.2], dtype=float32)>"
      ]
     },
     "metadata": {},
     "execution_count": 12
    }
   ],
   "metadata": {}
  },
  {
   "cell_type": "code",
   "execution_count": 13,
   "source": [
    "vector.ndim"
   ],
   "outputs": [
    {
     "output_type": "execute_result",
     "data": {
      "text/plain": [
       "1"
      ]
     },
     "metadata": {},
     "execution_count": 13
    }
   ],
   "metadata": {}
  },
  {
   "cell_type": "code",
   "execution_count": 16,
   "source": [
    "mat1 = tf.constant([[1, 2],\r\n",
    "                    [3, 4]])\r\n",
    "mat1"
   ],
   "outputs": [
    {
     "output_type": "execute_result",
     "data": {
      "text/plain": [
       "<tf.Tensor: shape=(2, 2), dtype=int32, numpy=\n",
       "array([[1, 2],\n",
       "       [3, 4]])>"
      ]
     },
     "metadata": {},
     "execution_count": 16
    }
   ],
   "metadata": {}
  },
  {
   "cell_type": "code",
   "execution_count": 17,
   "source": [
    "mat1.ndim"
   ],
   "outputs": [
    {
     "output_type": "execute_result",
     "data": {
      "text/plain": [
       "2"
      ]
     },
     "metadata": {},
     "execution_count": 17
    }
   ],
   "metadata": {}
  },
  {
   "cell_type": "code",
   "execution_count": 18,
   "source": [
    "mat2 = tf.constant([[1., 4.],\r\n",
    "                    [3., 2.],\r\n",
    "                    [5., 6.]], dtype=tf.float16)\r\n",
    "\r\n",
    "mat2"
   ],
   "outputs": [
    {
     "output_type": "execute_result",
     "data": {
      "text/plain": [
       "<tf.Tensor: shape=(3, 2), dtype=float16, numpy=\n",
       "array([[1., 4.],\n",
       "       [3., 2.],\n",
       "       [5., 6.]], dtype=float16)>"
      ]
     },
     "metadata": {},
     "execution_count": 18
    }
   ],
   "metadata": {}
  },
  {
   "cell_type": "code",
   "execution_count": 19,
   "source": [
    "mat2.ndim"
   ],
   "outputs": [
    {
     "output_type": "execute_result",
     "data": {
      "text/plain": [
       "2"
      ]
     },
     "metadata": {},
     "execution_count": 19
    }
   ],
   "metadata": {}
  },
  {
   "cell_type": "code",
   "execution_count": 20,
   "source": [
    "tensor = tf.constant([[[1, 2, 3,],\r\n",
    "                       [4, 5, 6]],\r\n",
    "                      [[7, 8, 9],\r\n",
    "                       [10, 11, 12]],\r\n",
    "                      [[13, 14, 15],\r\n",
    "                       [16, 17, 18]]])\r\n",
    "tensor"
   ],
   "outputs": [
    {
     "output_type": "execute_result",
     "data": {
      "text/plain": [
       "<tf.Tensor: shape=(3, 2, 3), dtype=int32, numpy=\n",
       "array([[[ 1,  2,  3],\n",
       "        [ 4,  5,  6]],\n",
       "\n",
       "       [[ 7,  8,  9],\n",
       "        [10, 11, 12]],\n",
       "\n",
       "       [[13, 14, 15],\n",
       "        [16, 17, 18]]])>"
      ]
     },
     "metadata": {},
     "execution_count": 20
    }
   ],
   "metadata": {}
  },
  {
   "cell_type": "code",
   "execution_count": 21,
   "source": [
    "tensor.ndim"
   ],
   "outputs": [
    {
     "output_type": "execute_result",
     "data": {
      "text/plain": [
       "3"
      ]
     },
     "metadata": {},
     "execution_count": 21
    }
   ],
   "metadata": {}
  },
  {
   "cell_type": "markdown",
   "source": [
    "### Create random tensors"
   ],
   "metadata": {}
  },
  {
   "cell_type": "code",
   "execution_count": 22,
   "source": [
    "random_1 = tf.random.Generator.from_seed(7)\r\n",
    "random_1 = random_1.normal(shape=(4, 2))\r\n",
    "random_2 = tf.random.Generator.from_seed(10)\r\n",
    "random_2 = random_2.normal(shape=(5, 3))"
   ],
   "outputs": [],
   "metadata": {}
  },
  {
   "cell_type": "markdown",
   "source": [
    "### DataFrame into TensorFlow"
   ],
   "metadata": {}
  },
  {
   "cell_type": "code",
   "execution_count": 23,
   "source": [
    "df2 = pd.DataFrame(np.random.randint(0, 10, (5, 5)), columns=[\"a\", \"b\", \"c\", \"d\", \"e\"])\r\n",
    "print(df2)\r\n",
    "print(df2.describe(include='all'))"
   ],
   "outputs": [
    {
     "output_type": "stream",
     "name": "stdout",
     "text": [
      "   a  b  c  d  e\n",
      "0  0  1  0  1  3\n",
      "1  2  0  6  4  4\n",
      "2  8  4  3  8  6\n",
      "3  2  3  0  1  8\n",
      "4  6  6  0  3  5\n",
      "              a         b         c         d         e\n",
      "count  5.000000  5.000000  5.000000  5.000000  5.000000\n",
      "mean   3.600000  2.800000  1.800000  3.400000  5.200000\n",
      "std    3.286335  2.387467  2.683282  2.880972  1.923538\n",
      "min    0.000000  0.000000  0.000000  1.000000  3.000000\n",
      "25%    2.000000  1.000000  0.000000  1.000000  4.000000\n",
      "50%    2.000000  3.000000  0.000000  3.000000  5.000000\n",
      "75%    6.000000  4.000000  3.000000  4.000000  6.000000\n",
      "max    8.000000  6.000000  6.000000  8.000000  8.000000\n"
     ]
    }
   ],
   "metadata": {}
  },
  {
   "cell_type": "code",
   "execution_count": 24,
   "source": [
    "training_df: pd.DataFrame = pd.DataFrame(\r\n",
    "    data={\r\n",
    "        'column1': np.random.rand(10),\r\n",
    "        'column2': np.random.rand(10),\r\n",
    "        'column3': np.random.rand(10),\r\n",
    "        'target': np.random.randint(0, 3, 10)\r\n",
    "    }\r\n",
    ")\r\n",
    "features = ['column1', 'column2', 'column3']\r\n",
    "print(training_df)\r\n",
    "\r\n",
    "training_dataset = (\r\n",
    "    tf.data.Dataset.from_tensor_slices(\r\n",
    "        (\r\n",
    "            tf.cast(training_df[features].values, tf.float32),\r\n",
    "            tf.cast(training_df['target'].values, tf.int32)\r\n",
    "        )\r\n",
    "    )\r\n",
    ")\r\n",
    "\r\n",
    "for features_tensor, target_tensor in training_dataset:\r\n",
    "    print(f'features:{features_tensor} target:{target_tensor}')"
   ],
   "outputs": [
    {
     "output_type": "stream",
     "name": "stdout",
     "text": [
      "    column1   column2   column3  target\n",
      "0  0.931107  0.207115  0.416122       0\n",
      "1  0.941629  0.266578  0.926766       1\n",
      "2  0.526829  0.152830  0.186452       2\n",
      "3  0.285595  0.943389  0.434863       0\n",
      "4  0.513787  0.052236  0.577923       1\n",
      "5  0.575970  0.050542  0.743635       1\n",
      "6  0.178668  0.327047  0.739642       0\n",
      "7  0.521833  0.631881  0.386397       0\n",
      "8  0.561269  0.891386  0.165855       1\n",
      "9  0.706393  0.561423  0.472934       1\n",
      "features:[0.9311067  0.20711471 0.41612232] target:0\n",
      "features:[0.94162905 0.26657793 0.9267659 ] target:1\n",
      "features:[0.5268295  0.15282963 0.18645182] target:2\n",
      "features:[0.28559485 0.9433892  0.43486315] target:0\n",
      "features:[0.5137867 0.0522365 0.5779225] target:1\n",
      "features:[0.5759705  0.05054224 0.7436355 ] target:1\n",
      "features:[0.17866807 0.32704678 0.73964214] target:0\n",
      "features:[0.5218328  0.6318813  0.38639656] target:0\n",
      "features:[0.5612691  0.8913857  0.16585472] target:1\n",
      "features:[0.7063928  0.56142265 0.472934  ] target:1\n"
     ]
    }
   ],
   "metadata": {}
  },
  {
   "cell_type": "markdown",
   "source": [
    "### Графічний аналіз наборів даних за допомогою Matplotlib"
   ],
   "metadata": {}
  },
  {
   "cell_type": "code",
   "execution_count": 25,
   "source": [
    "x = np.arange(0, 6, 0.5)\r\n",
    "y1 = x * 1.5\r\n",
    "\r\n",
    "adder = np.random.random(len(x)) * 1.4 - 0.7\r\n",
    "y2 = y1 + adder\r\n",
    "\r\n",
    "plt.figure()\r\n",
    "plt.grid()\r\n",
    "plt.xticks(x)\r\n",
    "plt.yticks(range(int(x[-1] * 1.5 + 1)))\r\n",
    "plt.xlabel('X Axis')\r\n",
    "plt.ylabel('Y Axis')\r\n",
    "\r\n",
    "plt.plot(x, y1, \"r--\", label=\"teoretic\")\r\n",
    "plt.plot(x, y2, \"b\", label=\"result\")\r\n",
    "\r\n",
    "plt.legend()\r\n",
    "plt.show()"
   ],
   "outputs": [
    {
     "output_type": "display_data",
     "data": {
      "image/png": "[encoded data removed]",
      "text/plain": [
       "<Figure size 432x288 with 1 Axes>"
      ]
     },
     "metadata": {
      "needs_background": "light"
     }
    }
   ],
   "metadata": {}
  },
  {
   "cell_type": "code",
   "execution_count": 26,
   "source": [
    "mae = metrics.mean_absolute_error(y2, y1)\r\n",
    "mse = metrics.mean_squared_error(y2, y1)\r\n",
    "print(mae)\r\n",
    "print(mse)"
   ],
   "outputs": [
    {
     "output_type": "stream",
     "name": "stdout",
     "text": [
      "0.3498262016950789\n",
      "0.15420064233672776\n"
     ]
    }
   ],
   "metadata": {}
  },
  {
   "cell_type": "code",
   "execution_count": 27,
   "source": [
    "df = pd.DataFrame(np.array([x, y2, y1]).swapaxes(0,1), columns=['X', 'Y', 'Y_hat'])\r\n",
    "print(df)\r\n",
    "with open('lab4.csv', 'w') as f:\r\n",
    "    f.write(df.to_csv(index=False))"
   ],
   "outputs": [
    {
     "output_type": "stream",
     "name": "stdout",
     "text": [
      "      X         Y  Y_hat\n",
      "0   0.0  0.088647   0.00\n",
      "1   0.5  0.192805   0.75\n",
      "2   1.0  1.973068   1.50\n",
      "3   1.5  2.480602   2.25\n",
      "4   2.0  2.811519   3.00\n",
      "5   2.5  3.183759   3.75\n",
      "6   3.0  4.720391   4.50\n",
      "7   3.5  5.806436   5.25\n",
      "8   4.0  5.600176   6.00\n",
      "9   4.5  6.449958   6.75\n",
      "10  5.0  7.415721   7.50\n",
      "11  5.5  8.782707   8.25\n"
     ]
    }
   ],
   "metadata": {}
  },
  {
   "cell_type": "markdown",
   "source": [
    "### Класифікація"
   ],
   "metadata": {}
  },
  {
   "cell_type": "code",
   "execution_count": 28,
   "source": [
    "tf.random.set_seed(42)\r\n",
    "\r\n",
    "model_1 = tf.keras.Sequential([\r\n",
    "  tf.keras.layers.Dense(100), \r\n",
    "  tf.keras.layers.Dense(10),\r\n",
    "  tf.keras.layers.Dense(1)\r\n",
    "])\r\n",
    "\r\n",
    "model_1.compile(loss=tf.keras.losses.BinaryCrossentropy(),\r\n",
    "                optimizer=tf.keras.optimizers.Adam(), \r\n",
    "                metrics=['accuracy'])\r\n",
    "\r\n",
    "model_1.fit(x, y1, epochs=80, verbose=0)"
   ],
   "outputs": [
    {
     "output_type": "execute_result",
     "data": {
      "text/plain": [
       "<tensorflow.python.keras.callbacks.History at 0x227f505fa30>"
      ]
     },
     "metadata": {},
     "execution_count": 28
    }
   ],
   "metadata": {}
  },
  {
   "cell_type": "code",
   "execution_count": 29,
   "source": [
    "def plot_decision_boundary(model, X, y):\r\n",
    "    \r\n",
    "  x_min, x_max = X[:, 0].min() - 0.1, X[:, 0].max() + 0.1\r\n",
    "  y_min, y_max = X[:, 1].min() - 0.1, X[:, 1].max() + 0.1\r\n",
    "  xx, yy = np.meshgrid(np.linspace(x_min, x_max, 100),\r\n",
    "                       np.linspace(y_min, y_max, 100))\r\n",
    "  \r\n",
    "  x_in = np.c_[xx.ravel(), yy.ravel()]\r\n",
    " \r\n",
    "  y_pred = model.predict(x_in)\r\n",
    "\r\n",
    "  if len(y_pred[0]) > 1:\r\n",
    "    print(\"doing multiclass classification...\")\r\n",
    "    y_pred = np.argmax(y_pred, axis=1).reshape(xx.shape)\r\n",
    "  else:\r\n",
    "    print(\"doing binary classifcation...\")\r\n",
    "    y_pred = np.round(y_pred).reshape(xx.shape)\r\n",
    "\r\n",
    "  plt.contourf(xx, yy, y_pred, cmap=plt.cm.RdYlBu, alpha=0.7)\r\n",
    "  plt.scatter(X[:, 0], X[:, 1], c=y, s=40, cmap=plt.cm.RdYlBu)\r\n",
    "  plt.xlim(xx.min(), xx.max())\r\n",
    "  plt.ylim(yy.min(), yy.max())"
   ],
   "outputs": [],
   "metadata": {}
  },
  {
   "cell_type": "code",
   "execution_count": 30,
   "source": [
    "tf.random.set_seed(42)\r\n",
    "\r\n",
    "X_regression = np.arange(0, 1000, 5)\r\n",
    "y_regression = np.arange(100, 1100, 5)\r\n",
    "\r\n",
    "X_reg_train = X_regression[:150]\r\n",
    "X_reg_test = X_regression[150:]\r\n",
    "y_reg_train = y_regression[:150]\r\n",
    "y_reg_test = y_regression[150:]"
   ],
   "outputs": [],
   "metadata": {}
  },
  {
   "cell_type": "code",
   "execution_count": 31,
   "source": [
    "tf.random.set_seed(42)\r\n",
    "\r\n",
    "model_1 = tf.keras.Sequential([\r\n",
    "  tf.keras.layers.Dense(100),\r\n",
    "  tf.keras.layers.Dense(10),\r\n",
    "  tf.keras.layers.Dense(1)\r\n",
    "])\r\n",
    "\r\n",
    "# Change the loss and metrics of our compiled model\r\n",
    "model_1.compile(loss=tf.keras.losses.mae, # change the loss function to be regression-specific\r\n",
    "                optimizer=tf.keras.optimizers.Adam(),\r\n",
    "                metrics=['mae']) # change the metric to be regression-specific\r\n",
    "\r\n",
    "# Fit the recompiled model\r\n",
    "model_1.fit(X_reg_train, y_reg_train, epochs=100)"
   ],
   "outputs": [
    {
     "output_type": "stream",
     "name": "stdout",
     "text": [
      "Epoch 1/100\n",
      "5/5 [==============================] - 0s 487us/step - loss: 248.2155 - mae: 248.2155\n",
      "Epoch 2/100\n",
      "5/5 [==============================] - 0s 2ms/step - loss: 138.9005 - mae: 138.9005\n",
      "Epoch 3/100\n",
      "5/5 [==============================] - 0s 2ms/step - loss: 53.1039 - mae: 53.1039\n",
      "Epoch 4/100\n",
      "5/5 [==============================] - 0s 2ms/step - loss: 73.5170 - mae: 73.5170\n",
      "Epoch 5/100\n",
      "5/5 [==============================] - 0s 2ms/step - loss: 71.2358 - mae: 71.2358\n",
      "Epoch 6/100\n",
      "5/5 [==============================] - 0s 2ms/step - loss: 47.0040 - mae: 47.0040\n",
      "Epoch 7/100\n",
      "5/5 [==============================] - 0s 2ms/step - loss: 45.9386 - mae: 45.9386\n",
      "Epoch 8/100\n",
      "5/5 [==============================] - 0s 2ms/step - loss: 42.3638 - mae: 42.3638\n",
      "Epoch 9/100\n",
      "5/5 [==============================] - 0s 222us/step - loss: 43.6831 - mae: 43.6831\n",
      "Epoch 10/100\n",
      "5/5 [==============================] - 0s 2ms/step - loss: 42.6198 - mae: 42.6198\n",
      "Epoch 11/100\n",
      "5/5 [==============================] - 0s 2ms/step - loss: 42.4797 - mae: 42.4797\n",
      "Epoch 12/100\n",
      "5/5 [==============================] - 0s 2ms/step - loss: 41.5537 - mae: 41.5537\n",
      "Epoch 13/100\n",
      "5/5 [==============================] - 0s 2ms/step - loss: 42.0972 - mae: 42.0972\n",
      "Epoch 14/100\n",
      "5/5 [==============================] - 0s 2ms/step - loss: 41.8647 - mae: 41.8647\n",
      "Epoch 15/100\n",
      "5/5 [==============================] - 0s 2ms/step - loss: 41.5342 - mae: 41.5342\n",
      "Epoch 16/100\n",
      "5/5 [==============================] - 0s 2ms/step - loss: 41.4028 - mae: 41.4028\n",
      "Epoch 17/100\n",
      "5/5 [==============================] - 0s 2ms/step - loss: 41.6887 - mae: 41.6887\n",
      "Epoch 18/100\n",
      "5/5 [==============================] - 0s 0s/step - loss: 41.6137 - mae: 41.6137\n",
      "Epoch 19/100\n",
      "5/5 [==============================] - 0s 2ms/step - loss: 41.2796 - mae: 41.2796\n",
      "Epoch 20/100\n",
      "5/5 [==============================] - 0s 2ms/step - loss: 41.1947 - mae: 41.1947\n",
      "Epoch 21/100\n",
      "5/5 [==============================] - 0s 2ms/step - loss: 41.2130 - mae: 41.2130\n",
      "Epoch 22/100\n",
      "5/5 [==============================] - 0s 2ms/step - loss: 41.0893 - mae: 41.0893\n",
      "Epoch 23/100\n",
      "5/5 [==============================] - 0s 2ms/step - loss: 41.2019 - mae: 41.2019\n",
      "Epoch 24/100\n",
      "5/5 [==============================] - 0s 2ms/step - loss: 40.9989 - mae: 40.9989\n",
      "Epoch 25/100\n",
      "5/5 [==============================] - 0s 2ms/step - loss: 41.0130 - mae: 41.0130\n",
      "Epoch 26/100\n",
      "5/5 [==============================] - 0s 2ms/step - loss: 41.0654 - mae: 41.0654\n",
      "Epoch 27/100\n",
      "5/5 [==============================] - 0s 2ms/step - loss: 40.8764 - mae: 40.8764\n",
      "Epoch 28/100\n",
      "5/5 [==============================] - 0s 0s/step - loss: 41.0545 - mae: 41.0545\n",
      "Epoch 29/100\n",
      "5/5 [==============================] - 0s 2ms/step - loss: 41.0480 - mae: 41.0480\n",
      "Epoch 30/100\n",
      "5/5 [==============================] - 0s 2ms/step - loss: 40.8807 - mae: 40.8807\n",
      "Epoch 31/100\n",
      "5/5 [==============================] - 0s 2ms/step - loss: 41.2695 - mae: 41.2695\n",
      "Epoch 32/100\n",
      "5/5 [==============================] - 0s 2ms/step - loss: 40.9949 - mae: 40.9949\n",
      "Epoch 33/100\n",
      "5/5 [==============================] - 0s 0s/step - loss: 41.0760 - mae: 41.0760\n",
      "Epoch 34/100\n",
      "5/5 [==============================] - 0s 2ms/step - loss: 41.2471 - mae: 41.2471\n",
      "Epoch 35/100\n",
      "5/5 [==============================] - 0s 2ms/step - loss: 40.6102 - mae: 40.6102\n",
      "Epoch 36/100\n",
      "5/5 [==============================] - 0s 2ms/step - loss: 41.1093 - mae: 41.1093\n",
      "Epoch 37/100\n",
      "5/5 [==============================] - 0s 2ms/step - loss: 40.8191 - mae: 40.8191\n",
      "Epoch 38/100\n",
      "5/5 [==============================] - 0s 2ms/step - loss: 40.2485 - mae: 40.2485\n",
      "Epoch 39/100\n",
      "5/5 [==============================] - 0s 2ms/step - loss: 41.0625 - mae: 41.0625\n",
      "Epoch 40/100\n",
      "5/5 [==============================] - 0s 0s/step - loss: 40.5311 - mae: 40.5311\n",
      "Epoch 41/100\n",
      "5/5 [==============================] - 0s 0s/step - loss: 40.5497 - mae: 40.5497\n",
      "Epoch 42/100\n",
      "5/5 [==============================] - 0s 2ms/step - loss: 40.4322 - mae: 40.4322\n",
      "Epoch 43/100\n",
      "5/5 [==============================] - 0s 2ms/step - loss: 40.5367 - mae: 40.5367\n",
      "Epoch 44/100\n",
      "5/5 [==============================] - 0s 2ms/step - loss: 40.2487 - mae: 40.2487\n",
      "Epoch 45/100\n",
      "5/5 [==============================] - 0s 2ms/step - loss: 40.5152 - mae: 40.5152\n",
      "Epoch 46/100\n",
      "5/5 [==============================] - 0s 2ms/step - loss: 40.3702 - mae: 40.3702\n",
      "Epoch 47/100\n",
      "5/5 [==============================] - 0s 0s/step - loss: 40.4769 - mae: 40.4769\n",
      "Epoch 48/100\n",
      "5/5 [==============================] - 0s 2ms/step - loss: 40.1532 - mae: 40.1532\n",
      "Epoch 49/100\n",
      "5/5 [==============================] - 0s 2ms/step - loss: 40.7291 - mae: 40.7291\n",
      "Epoch 50/100\n",
      "5/5 [==============================] - 0s 2ms/step - loss: 40.1536 - mae: 40.1536\n",
      "Epoch 51/100\n",
      "5/5 [==============================] - 0s 0s/step - loss: 40.2711 - mae: 40.2711\n",
      "Epoch 52/100\n",
      "5/5 [==============================] - 0s 0s/step - loss: 40.6572 - mae: 40.6572\n",
      "Epoch 53/100\n",
      "5/5 [==============================] - 0s 2ms/step - loss: 40.6573 - mae: 40.6573\n",
      "Epoch 54/100\n",
      "5/5 [==============================] - 0s 2ms/step - loss: 40.6894 - mae: 40.6894\n",
      "Epoch 55/100\n",
      "5/5 [==============================] - 0s 2ms/step - loss: 41.2771 - mae: 41.2771\n",
      "Epoch 56/100\n",
      "5/5 [==============================] - 0s 2ms/step - loss: 41.8519 - mae: 41.8519\n",
      "Epoch 57/100\n",
      "5/5 [==============================] - 0s 2ms/step - loss: 40.7903 - mae: 40.7903\n",
      "Epoch 58/100\n",
      "5/5 [==============================] - 0s 2ms/step - loss: 40.3128 - mae: 40.3128\n",
      "Epoch 59/100\n",
      "5/5 [==============================] - 0s 2ms/step - loss: 40.7198 - mae: 40.7198\n",
      "Epoch 60/100\n",
      "5/5 [==============================] - 0s 0s/step - loss: 40.1478 - mae: 40.1478\n",
      "Epoch 61/100\n",
      "5/5 [==============================] - 0s 2ms/step - loss: 40.1117 - mae: 40.1117\n",
      "Epoch 62/100\n",
      "5/5 [==============================] - 0s 2ms/step - loss: 40.7800 - mae: 40.7800\n",
      "Epoch 63/100\n",
      "5/5 [==============================] - 0s 2ms/step - loss: 39.7242 - mae: 39.7242\n",
      "Epoch 64/100\n",
      "5/5 [==============================] - 0s 0s/step - loss: 40.1465 - mae: 40.1465\n",
      "Epoch 65/100\n",
      "5/5 [==============================] - 0s 2ms/step - loss: 39.6887 - mae: 39.6887\n",
      "Epoch 66/100\n",
      "5/5 [==============================] - 0s 2ms/step - loss: 40.2840 - mae: 40.2840\n",
      "Epoch 67/100\n",
      "5/5 [==============================] - 0s 999us/step - loss: 39.5541 - mae: 39.5541\n",
      "Epoch 68/100\n",
      "5/5 [==============================] - 0s 3ms/step - loss: 39.7378 - mae: 39.7378\n",
      "Epoch 69/100\n",
      "5/5 [==============================] - 0s 2ms/step - loss: 39.9784 - mae: 39.9784\n",
      "Epoch 70/100\n",
      "5/5 [==============================] - 0s 2ms/step - loss: 40.0016 - mae: 40.0016\n",
      "Epoch 71/100\n",
      "5/5 [==============================] - 0s 0s/step - loss: 40.0913 - mae: 40.0913\n",
      "Epoch 72/100\n",
      "5/5 [==============================] - 0s 0s/step - loss: 39.2547 - mae: 39.2547\n",
      "Epoch 73/100\n",
      "5/5 [==============================] - 0s 2ms/step - loss: 39.6828 - mae: 39.6828\n",
      "Epoch 74/100\n",
      "5/5 [==============================] - 0s 2ms/step - loss: 39.5373 - mae: 39.5373\n",
      "Epoch 75/100\n",
      "5/5 [==============================] - 0s 0s/step - loss: 39.6265 - mae: 39.6265\n",
      "Epoch 76/100\n",
      "5/5 [==============================] - 0s 2ms/step - loss: 39.3110 - mae: 39.3110\n",
      "Epoch 77/100\n",
      "5/5 [==============================] - 0s 2ms/step - loss: 39.1599 - mae: 39.1599\n",
      "Epoch 78/100\n",
      "5/5 [==============================] - 0s 2ms/step - loss: 39.7550 - mae: 39.7550\n",
      "Epoch 79/100\n",
      "5/5 [==============================] - 0s 0s/step - loss: 39.2542 - mae: 39.2542\n",
      "Epoch 80/100\n",
      "5/5 [==============================] - 0s 0s/step - loss: 38.6968 - mae: 38.6968\n",
      "Epoch 81/100\n",
      "5/5 [==============================] - 0s 2ms/step - loss: 39.5442 - mae: 39.5442\n",
      "Epoch 82/100\n",
      "5/5 [==============================] - 0s 2ms/step - loss: 39.8686 - mae: 39.8686\n",
      "Epoch 83/100\n",
      "5/5 [==============================] - 0s 2ms/step - loss: 39.1693 - mae: 39.1693\n",
      "Epoch 84/100\n",
      "5/5 [==============================] - 0s 2ms/step - loss: 38.8840 - mae: 38.8840\n",
      "Epoch 85/100\n",
      "5/5 [==============================] - 0s 2ms/step - loss: 38.8887 - mae: 38.8887\n",
      "Epoch 86/100\n",
      "5/5 [==============================] - 0s 2ms/step - loss: 38.6614 - mae: 38.6614\n",
      "Epoch 87/100\n",
      "5/5 [==============================] - 0s 2ms/step - loss: 38.8398 - mae: 38.8398\n",
      "Epoch 88/100\n",
      "5/5 [==============================] - 0s 2ms/step - loss: 38.6604 - mae: 38.6604\n",
      "Epoch 89/100\n",
      "5/5 [==============================] - 0s 0s/step - loss: 38.7559 - mae: 38.7559\n",
      "Epoch 90/100\n",
      "5/5 [==============================] - 0s 2ms/step - loss: 38.5442 - mae: 38.5442\n",
      "Epoch 91/100\n",
      "5/5 [==============================] - 0s 2ms/step - loss: 38.3247 - mae: 38.3247\n",
      "Epoch 92/100\n",
      "5/5 [==============================] - 0s 2ms/step - loss: 38.8431 - mae: 38.8431\n",
      "Epoch 93/100\n",
      "5/5 [==============================] - 0s 2ms/step - loss: 39.1137 - mae: 39.1137\n",
      "Epoch 94/100\n",
      "5/5 [==============================] - 0s 2ms/step - loss: 38.1463 - mae: 38.1463\n",
      "Epoch 95/100\n",
      "5/5 [==============================] - 0s 2ms/step - loss: 38.3998 - mae: 38.3998\n",
      "Epoch 96/100\n",
      "5/5 [==============================] - 0s 2ms/step - loss: 38.5599 - mae: 38.5599\n",
      "Epoch 97/100\n",
      "5/5 [==============================] - 0s 2ms/step - loss: 38.1038 - mae: 38.1038\n",
      "Epoch 98/100\n",
      "5/5 [==============================] - 0s 9ms/step - loss: 39.0081 - mae: 39.0081\n",
      "Epoch 99/100\n",
      "5/5 [==============================] - 0s 2ms/step - loss: 38.3056 - mae: 38.3056\n",
      "Epoch 100/100\n",
      "5/5 [==============================] - 0s 2ms/step - loss: 37.9976 - mae: 37.9976\n"
     ]
    },
    {
     "output_type": "execute_result",
     "data": {
      "text/plain": [
       "<tensorflow.python.keras.callbacks.History at 0x227f5277250>"
      ]
     },
     "metadata": {},
     "execution_count": 31
    }
   ],
   "metadata": {}
  },
  {
   "cell_type": "code",
   "execution_count": 32,
   "source": [
    "y_reg_preds = model_1.predict(y_reg_test)\r\n",
    "\r\n",
    "plt.figure(figsize=(10, 7))\r\n",
    "plt.scatter(X_reg_train, y_reg_train, c='b', label='Training data')\r\n",
    "plt.scatter(X_reg_test, y_reg_test, c='g', label='Testing data')\r\n",
    "plt.scatter(X_reg_test, y_reg_preds.squeeze(), c='r', label='Predictions')\r\n",
    "plt.legend()"
   ],
   "outputs": [
    {
     "output_type": "execute_result",
     "data": {
      "text/plain": [
       "<matplotlib.legend.Legend at 0x227f63356d0>"
      ]
     },
     "metadata": {},
     "execution_count": 32
    },
    {
     "output_type": "display_data",
     "data": {
      "image/png": "[encoded data removed]",
      "text/plain": [
       "<Figure size 720x504 with 1 Axes>"
      ]
     },
     "metadata": {
      "needs_background": "light"
     }
    }
   ],
   "metadata": {}
  },
  {
   "cell_type": "code",
   "execution_count": 33,
   "source": [
    "model_1.evaluate(x, y1)"
   ],
   "outputs": [
    {
     "output_type": "stream",
     "name": "stdout",
     "text": [
      "1/1 [==============================] - 0s 0s/step - loss: 7.7470 - mae: 7.7470\n"
     ]
    },
    {
     "output_type": "execute_result",
     "data": {
      "text/plain": [
       "[7.747018337249756, 7.747018337249756]"
      ]
     },
     "metadata": {},
     "execution_count": 33
    }
   ],
   "metadata": {}
  },
  {
   "cell_type": "code",
   "execution_count": 34,
   "source": [
    "len(x)"
   ],
   "outputs": [
    {
     "output_type": "execute_result",
     "data": {
      "text/plain": [
       "12"
      ]
     },
     "metadata": {},
     "execution_count": 34
    }
   ],
   "metadata": {}
  },
  {
   "cell_type": "code",
   "execution_count": 35,
   "source": [
    "X_train, y_train = x[:800], y1[:800]\r\n",
    "X_test, y_test = x[800:], y1[800:]\r\n",
    "\r\n",
    "X_train.shape, X_test.shape"
   ],
   "outputs": [
    {
     "output_type": "execute_result",
     "data": {
      "text/plain": [
       "((12,), (0,))"
      ]
     },
     "metadata": {},
     "execution_count": 35
    }
   ],
   "metadata": {}
  },
  {
   "cell_type": "code",
   "execution_count": 36,
   "source": [
    "tf.random.set_seed(42)\r\n",
    "\r\n",
    "model_2 = tf.keras.Sequential([\r\n",
    "  tf.keras.layers.Dense(4, activation=\"relu\"), \r\n",
    "  tf.keras.layers.Dense(4, activation=\"relu\"),\r\n",
    "  tf.keras.layers.Dense(1, activation=\"sigmoid\")\r\n",
    "])\r\n",
    "\r\n",
    "model_2.compile(loss=tf.keras.losses.binary_crossentropy,\r\n",
    "                optimizer=tf.keras.optimizers.Adam(lr=0.01), \r\n",
    "                metrics=['accuracy'])\r\n",
    "\r\n",
    "history = model_2.fit(X_train, y_train, epochs=25)"
   ],
   "outputs": [
    {
     "output_type": "stream",
     "name": "stdout",
     "text": [
      "Epoch 1/25\n",
      "1/1 [==============================] - 0s 0s/step - loss: 3.9688 - accuracy: 0.0833\n",
      "Epoch 2/25\n",
      "1/1 [==============================] - 0s 0s/step - loss: 3.6169 - accuracy: 0.0000e+00\n",
      "Epoch 3/25\n",
      "1/1 [==============================] - 0s 0s/step - loss: 3.2767 - accuracy: 0.0000e+00\n",
      "Epoch 4/25\n",
      "1/1 [==============================] - 0s 0s/step - loss: 2.9482 - accuracy: 0.0000e+00\n",
      "Epoch 5/25\n",
      "1/1 [==============================] - 0s 0s/step - loss: 2.6314 - accuracy: 0.0000e+00\n",
      "Epoch 6/25\n",
      "1/1 [==============================] - 0s 0s/step - loss: 2.3264 - accuracy: 0.0000e+00\n",
      "Epoch 7/25\n",
      "1/1 [==============================] - 0s 8ms/step - loss: 2.0332 - accuracy: 0.0000e+00\n",
      "Epoch 8/25\n",
      "1/1 [==============================] - 0s 0s/step - loss: 1.7521 - accuracy: 0.0000e+00\n",
      "Epoch 9/25\n",
      "1/1 [==============================] - 0s 8ms/step - loss: 1.4826 - accuracy: 0.0000e+00\n",
      "Epoch 10/25\n",
      "1/1 [==============================] - 0s 0s/step - loss: 1.2246 - accuracy: 0.0000e+00\n",
      "Epoch 11/25\n",
      "1/1 [==============================] - 0s 0s/step - loss: 0.9778 - accuracy: 0.0000e+00\n",
      "Epoch 12/25\n",
      "1/1 [==============================] - 0s 0s/step - loss: 0.7433 - accuracy: 0.0000e+00\n",
      "Epoch 13/25\n",
      "1/1 [==============================] - 0s 8ms/step - loss: 0.5200 - accuracy: 0.0000e+00\n",
      "Epoch 14/25\n",
      "1/1 [==============================] - 0s 0s/step - loss: 0.3072 - accuracy: 0.0000e+00\n",
      "Epoch 15/25\n",
      "1/1 [==============================] - 0s 0s/step - loss: 0.1060 - accuracy: 0.0000e+00\n",
      "Epoch 16/25\n",
      "1/1 [==============================] - 0s 0s/step - loss: -0.0838 - accuracy: 0.0000e+00\n",
      "Epoch 17/25\n",
      "1/1 [==============================] - 0s 0s/step - loss: -0.2645 - accuracy: 0.0000e+00\n",
      "Epoch 18/25\n",
      "1/1 [==============================] - 0s 0s/step - loss: -0.4324 - accuracy: 0.0000e+00\n",
      "Epoch 19/25\n",
      "1/1 [==============================] - 0s 8ms/step - loss: -0.5917 - accuracy: 0.0000e+00\n",
      "Epoch 20/25\n",
      "1/1 [==============================] - 0s 0s/step - loss: -0.7394 - accuracy: 0.0000e+00\n",
      "Epoch 21/25\n",
      "1/1 [==============================] - 0s 0s/step - loss: -0.8784 - accuracy: 0.0000e+00\n",
      "Epoch 22/25\n",
      "1/1 [==============================] - 0s 0s/step - loss: -1.0066 - accuracy: 0.0000e+00\n",
      "Epoch 23/25\n",
      "1/1 [==============================] - 0s 0s/step - loss: -1.1277 - accuracy: 0.0000e+00\n",
      "Epoch 24/25\n",
      "1/1 [==============================] - 0s 0s/step - loss: -1.2379 - accuracy: 0.0000e+00\n",
      "Epoch 25/25\n",
      "1/1 [==============================] - 0s 0s/step - loss: -1.3440 - accuracy: 0.0000e+00\n"
     ]
    }
   ],
   "metadata": {}
  },
  {
   "cell_type": "code",
   "execution_count": 37,
   "source": [
    "pd.DataFrame(history.history)"
   ],
   "outputs": [
    {
     "output_type": "execute_result",
     "data": {
      "text/html": [
       "<div>\n",
       "<style scoped>\n",
       "    .dataframe tbody tr th:only-of-type {\n",
       "        vertical-align: middle;\n",
       "    }\n",
       "\n",
       "    .dataframe tbody tr th {\n",
       "        vertical-align: top;\n",
       "    }\n",
       "\n",
       "    .dataframe thead th {\n",
       "        text-align: right;\n",
       "    }\n",
       "</style>\n",
       "<table border=\"1\" class=\"dataframe\">\n",
       "  <thead>\n",
       "    <tr style=\"text-align: right;\">\n",
       "      <th></th>\n",
       "      <th>loss</th>\n",
       "      <th>accuracy</th>\n",
       "    </tr>\n",
       "  </thead>\n",
       "  <tbody>\n",
       "    <tr>\n",
       "      <th>0</th>\n",
       "      <td>3.968758</td>\n",
       "      <td>0.083333</td>\n",
       "    </tr>\n",
       "    <tr>\n",
       "      <th>1</th>\n",
       "      <td>3.616942</td>\n",
       "      <td>0.000000</td>\n",
       "    </tr>\n",
       "    <tr>\n",
       "      <th>2</th>\n",
       "      <td>3.276713</td>\n",
       "      <td>0.000000</td>\n",
       "    </tr>\n",
       "    <tr>\n",
       "      <th>3</th>\n",
       "      <td>2.948177</td>\n",
       "      <td>0.000000</td>\n",
       "    </tr>\n",
       "    <tr>\n",
       "      <th>4</th>\n",
       "      <td>2.631409</td>\n",
       "      <td>0.000000</td>\n",
       "    </tr>\n",
       "    <tr>\n",
       "      <th>5</th>\n",
       "      <td>2.326434</td>\n",
       "      <td>0.000000</td>\n",
       "    </tr>\n",
       "    <tr>\n",
       "      <th>6</th>\n",
       "      <td>2.033239</td>\n",
       "      <td>0.000000</td>\n",
       "    </tr>\n",
       "    <tr>\n",
       "      <th>7</th>\n",
       "      <td>1.752090</td>\n",
       "      <td>0.000000</td>\n",
       "    </tr>\n",
       "    <tr>\n",
       "      <th>8</th>\n",
       "      <td>1.482598</td>\n",
       "      <td>0.000000</td>\n",
       "    </tr>\n",
       "    <tr>\n",
       "      <th>9</th>\n",
       "      <td>1.224565</td>\n",
       "      <td>0.000000</td>\n",
       "    </tr>\n",
       "    <tr>\n",
       "      <th>10</th>\n",
       "      <td>0.977802</td>\n",
       "      <td>0.000000</td>\n",
       "    </tr>\n",
       "    <tr>\n",
       "      <th>11</th>\n",
       "      <td>0.743257</td>\n",
       "      <td>0.000000</td>\n",
       "    </tr>\n",
       "    <tr>\n",
       "      <th>12</th>\n",
       "      <td>0.520047</td>\n",
       "      <td>0.000000</td>\n",
       "    </tr>\n",
       "    <tr>\n",
       "      <th>13</th>\n",
       "      <td>0.307233</td>\n",
       "      <td>0.000000</td>\n",
       "    </tr>\n",
       "    <tr>\n",
       "      <th>14</th>\n",
       "      <td>0.106035</td>\n",
       "      <td>0.000000</td>\n",
       "    </tr>\n",
       "    <tr>\n",
       "      <th>15</th>\n",
       "      <td>-0.083841</td>\n",
       "      <td>0.000000</td>\n",
       "    </tr>\n",
       "    <tr>\n",
       "      <th>16</th>\n",
       "      <td>-0.264548</td>\n",
       "      <td>0.000000</td>\n",
       "    </tr>\n",
       "    <tr>\n",
       "      <th>17</th>\n",
       "      <td>-0.432406</td>\n",
       "      <td>0.000000</td>\n",
       "    </tr>\n",
       "    <tr>\n",
       "      <th>18</th>\n",
       "      <td>-0.591701</td>\n",
       "      <td>0.000000</td>\n",
       "    </tr>\n",
       "    <tr>\n",
       "      <th>19</th>\n",
       "      <td>-0.739369</td>\n",
       "      <td>0.000000</td>\n",
       "    </tr>\n",
       "    <tr>\n",
       "      <th>20</th>\n",
       "      <td>-0.878360</td>\n",
       "      <td>0.000000</td>\n",
       "    </tr>\n",
       "    <tr>\n",
       "      <th>21</th>\n",
       "      <td>-1.006615</td>\n",
       "      <td>0.000000</td>\n",
       "    </tr>\n",
       "    <tr>\n",
       "      <th>22</th>\n",
       "      <td>-1.127746</td>\n",
       "      <td>0.000000</td>\n",
       "    </tr>\n",
       "    <tr>\n",
       "      <th>23</th>\n",
       "      <td>-1.237927</td>\n",
       "      <td>0.000000</td>\n",
       "    </tr>\n",
       "    <tr>\n",
       "      <th>24</th>\n",
       "      <td>-1.343993</td>\n",
       "      <td>0.000000</td>\n",
       "    </tr>\n",
       "  </tbody>\n",
       "</table>\n",
       "</div>"
      ],
      "text/plain": [
       "        loss  accuracy\n",
       "0   3.968758  0.083333\n",
       "1   3.616942  0.000000\n",
       "2   3.276713  0.000000\n",
       "3   2.948177  0.000000\n",
       "4   2.631409  0.000000\n",
       "5   2.326434  0.000000\n",
       "6   2.033239  0.000000\n",
       "7   1.752090  0.000000\n",
       "8   1.482598  0.000000\n",
       "9   1.224565  0.000000\n",
       "10  0.977802  0.000000\n",
       "11  0.743257  0.000000\n",
       "12  0.520047  0.000000\n",
       "13  0.307233  0.000000\n",
       "14  0.106035  0.000000\n",
       "15 -0.083841  0.000000\n",
       "16 -0.264548  0.000000\n",
       "17 -0.432406  0.000000\n",
       "18 -0.591701  0.000000\n",
       "19 -0.739369  0.000000\n",
       "20 -0.878360  0.000000\n",
       "21 -1.006615  0.000000\n",
       "22 -1.127746  0.000000\n",
       "23 -1.237927  0.000000\n",
       "24 -1.343993  0.000000"
      ]
     },
     "metadata": {},
     "execution_count": 37
    }
   ],
   "metadata": {}
  },
  {
   "cell_type": "code",
   "execution_count": 38,
   "source": [
    "pd.DataFrame(history.history).plot()\r\n",
    "plt.title(\"Model_2 training curves\")"
   ],
   "outputs": [
    {
     "output_type": "execute_result",
     "data": {
      "text/plain": [
       "Text(0.5, 1.0, 'Model_2 training curves')"
      ]
     },
     "metadata": {},
     "execution_count": 38
    },
    {
     "output_type": "display_data",
     "data": {
      "image/png": "[encoded data removed]",
      "text/plain": [
       "<Figure size 432x288 with 1 Axes>"
      ]
     },
     "metadata": {
      "needs_background": "light"
     }
    }
   ],
   "metadata": {}
  },
  {
   "cell_type": "markdown",
   "source": [
    "### Регресія"
   ],
   "metadata": {}
  },
  {
   "cell_type": "code",
   "execution_count": 39,
   "source": [
    "input_shape = x[0].shape \r\n",
    "output_shape = y1[0].shape\r\n",
    "input_shape, output_shape \r\n",
    "\r\n",
    "tf.random.set_seed(42)\r\n",
    "\r\n",
    "model = tf.keras.Sequential([\r\n",
    "  tf.keras.layers.Dense(1)\r\n",
    "])\r\n",
    "\r\n",
    "model.compile(loss=tf.keras.losses.mae,\r\n",
    "              optimizer=tf.keras.optimizers.SGD(),\r\n",
    "              metrics=[\"mae\"])\r\n",
    "\r\n",
    "model.fit(x, y1, epochs=80)"
   ],
   "outputs": [
    {
     "output_type": "stream",
     "name": "stdout",
     "text": [
      "Epoch 1/80\n",
      "1/1 [==============================] - 0s 0s/step - loss: 2.5573 - mae: 2.5573\n",
      "Epoch 2/80\n",
      "1/1 [==============================] - 0s 8ms/step - loss: 2.4741 - mae: 2.4741\n",
      "Epoch 3/80\n",
      "1/1 [==============================] - 0s 0s/step - loss: 2.3915 - mae: 2.3915\n",
      "Epoch 4/80\n",
      "1/1 [==============================] - 0s 0s/step - loss: 2.3089 - mae: 2.3089\n",
      "Epoch 5/80\n",
      "1/1 [==============================] - 0s 0s/step - loss: 2.2264 - mae: 2.2264\n",
      "Epoch 6/80\n",
      "1/1 [==============================] - 0s 0s/step - loss: 2.1438 - mae: 2.1438\n",
      "Epoch 7/80\n",
      "1/1 [==============================] - 0s 0s/step - loss: 2.0612 - mae: 2.0612\n",
      "Epoch 8/80\n",
      "1/1 [==============================] - 0s 0s/step - loss: 1.9787 - mae: 1.9787\n",
      "Epoch 9/80\n",
      "1/1 [==============================] - 0s 0s/step - loss: 1.8961 - mae: 1.8961\n",
      "Epoch 10/80\n",
      "1/1 [==============================] - 0s 0s/step - loss: 1.8135 - mae: 1.8135\n",
      "Epoch 11/80\n",
      "1/1 [==============================] - 0s 0s/step - loss: 1.7309 - mae: 1.7309\n",
      "Epoch 12/80\n",
      "1/1 [==============================] - 0s 0s/step - loss: 1.6484 - mae: 1.6484\n",
      "Epoch 13/80\n",
      "1/1 [==============================] - 0s 0s/step - loss: 1.5658 - mae: 1.5658\n",
      "Epoch 14/80\n",
      "1/1 [==============================] - 0s 0s/step - loss: 1.4832 - mae: 1.4832\n",
      "Epoch 15/80\n",
      "1/1 [==============================] - 0s 0s/step - loss: 1.4007 - mae: 1.4007\n",
      "Epoch 16/80\n",
      "1/1 [==============================] - 0s 8ms/step - loss: 1.3181 - mae: 1.3181\n",
      "Epoch 17/80\n",
      "1/1 [==============================] - 0s 0s/step - loss: 1.2355 - mae: 1.2355\n",
      "Epoch 18/80\n",
      "1/1 [==============================] - 0s 0s/step - loss: 1.1530 - mae: 1.1530\n",
      "Epoch 19/80\n",
      "1/1 [==============================] - 0s 1ms/step - loss: 1.0704 - mae: 1.0704\n",
      "Epoch 20/80\n",
      "1/1 [==============================] - 0s 0s/step - loss: 0.9878 - mae: 0.9878\n",
      "Epoch 21/80\n",
      "1/1 [==============================] - 0s 0s/step - loss: 0.9053 - mae: 0.9053\n",
      "Epoch 22/80\n",
      "1/1 [==============================] - 0s 0s/step - loss: 0.8227 - mae: 0.8227\n",
      "Epoch 23/80\n",
      "1/1 [==============================] - 0s 8ms/step - loss: 0.7437 - mae: 0.7437\n",
      "Epoch 24/80\n",
      "1/1 [==============================] - 0s 0s/step - loss: 0.6682 - mae: 0.6682\n",
      "Epoch 25/80\n",
      "1/1 [==============================] - 0s 0s/step - loss: 0.5926 - mae: 0.5926\n",
      "Epoch 26/80\n",
      "1/1 [==============================] - 0s 0s/step - loss: 0.5171 - mae: 0.5171\n",
      "Epoch 27/80\n",
      "1/1 [==============================] - 0s 0s/step - loss: 0.4415 - mae: 0.4415\n",
      "Epoch 28/80\n",
      "1/1 [==============================] - 0s 0s/step - loss: 0.3703 - mae: 0.3703\n",
      "Epoch 29/80\n",
      "1/1 [==============================] - 0s 0s/step - loss: 0.3053 - mae: 0.3053\n",
      "Epoch 30/80\n",
      "1/1 [==============================] - 0s 0s/step - loss: 0.2428 - mae: 0.2428\n",
      "Epoch 31/80\n",
      "1/1 [==============================] - 0s 0s/step - loss: 0.1910 - mae: 0.1910\n",
      "Epoch 32/80\n",
      "1/1 [==============================] - 0s 8ms/step - loss: 0.1461 - mae: 0.1461\n",
      "Epoch 33/80\n",
      "1/1 [==============================] - 0s 0s/step - loss: 0.1167 - mae: 0.1167\n",
      "Epoch 34/80\n",
      "1/1 [==============================] - 0s 0s/step - loss: 0.1065 - mae: 0.1065\n",
      "Epoch 35/80\n",
      "1/1 [==============================] - 0s 8ms/step - loss: 0.1019 - mae: 0.1019\n",
      "Epoch 36/80\n",
      "1/1 [==============================] - 0s 0s/step - loss: 0.1008 - mae: 0.1008\n",
      "Epoch 37/80\n",
      "1/1 [==============================] - 0s 8ms/step - loss: 0.0981 - mae: 0.0981\n",
      "Epoch 38/80\n",
      "1/1 [==============================] - 0s 0s/step - loss: 0.0973 - mae: 0.0973\n",
      "Epoch 39/80\n",
      "1/1 [==============================] - 0s 0s/step - loss: 0.0945 - mae: 0.0945\n",
      "Epoch 40/80\n",
      "1/1 [==============================] - 0s 0s/step - loss: 0.0938 - mae: 0.0938\n",
      "Epoch 41/80\n",
      "1/1 [==============================] - 0s 0s/step - loss: 0.0910 - mae: 0.0910\n",
      "Epoch 42/80\n",
      "1/1 [==============================] - 0s 0s/step - loss: 0.0900 - mae: 0.0900\n",
      "Epoch 43/80\n",
      "1/1 [==============================] - 0s 0s/step - loss: 0.0875 - mae: 0.0875\n",
      "Epoch 44/80\n",
      "1/1 [==============================] - 0s 2ms/step - loss: 0.0863 - mae: 0.0863\n",
      "Epoch 45/80\n",
      "1/1 [==============================] - 0s 0s/step - loss: 0.0841 - mae: 0.0841\n",
      "Epoch 46/80\n",
      "1/1 [==============================] - 0s 8ms/step - loss: 0.0825 - mae: 0.0825\n",
      "Epoch 47/80\n",
      "1/1 [==============================] - 0s 0s/step - loss: 0.0806 - mae: 0.0806\n",
      "Epoch 48/80\n",
      "1/1 [==============================] - 0s 0s/step - loss: 0.0788 - mae: 0.0788\n",
      "Epoch 49/80\n",
      "1/1 [==============================] - 0s 0s/step - loss: 0.0771 - mae: 0.0771\n",
      "Epoch 50/80\n",
      "1/1 [==============================] - 0s 0s/step - loss: 0.0750 - mae: 0.0750\n",
      "Epoch 51/80\n",
      "1/1 [==============================] - 0s 0s/step - loss: 0.0737 - mae: 0.0737\n",
      "Epoch 52/80\n",
      "1/1 [==============================] - 0s 0s/step - loss: 0.0713 - mae: 0.0713\n",
      "Epoch 53/80\n",
      "1/1 [==============================] - 0s 0s/step - loss: 0.0702 - mae: 0.0702\n",
      "Epoch 54/80\n",
      "1/1 [==============================] - 0s 0s/step - loss: 0.0675 - mae: 0.0675\n",
      "Epoch 55/80\n",
      "1/1 [==============================] - 0s 8ms/step - loss: 0.0667 - mae: 0.0667\n",
      "Epoch 56/80\n",
      "1/1 [==============================] - 0s 0s/step - loss: 0.0639 - mae: 0.0639\n",
      "Epoch 57/80\n",
      "1/1 [==============================] - 0s 8ms/step - loss: 0.0631 - mae: 0.0631\n",
      "Epoch 58/80\n",
      "1/1 [==============================] - 0s 0s/step - loss: 0.0604 - mae: 0.0604\n",
      "Epoch 59/80\n",
      "1/1 [==============================] - 0s 0s/step - loss: 0.0594 - mae: 0.0594\n",
      "Epoch 60/80\n",
      "1/1 [==============================] - 0s 0s/step - loss: 0.0569 - mae: 0.0569\n",
      "Epoch 61/80\n",
      "1/1 [==============================] - 0s 0s/step - loss: 0.0556 - mae: 0.0556\n",
      "Epoch 62/80\n",
      "1/1 [==============================] - 0s 0s/step - loss: 0.0534 - mae: 0.0534\n",
      "Epoch 63/80\n",
      "1/1 [==============================] - 0s 0s/step - loss: 0.0519 - mae: 0.0519\n",
      "Epoch 64/80\n",
      "1/1 [==============================] - 0s 0s/step - loss: 0.0500 - mae: 0.0500\n",
      "Epoch 65/80\n",
      "1/1 [==============================] - 0s 0s/step - loss: 0.0481 - mae: 0.0481\n",
      "Epoch 66/80\n",
      "1/1 [==============================] - 0s 0s/step - loss: 0.0465 - mae: 0.0465\n",
      "Epoch 67/80\n",
      "1/1 [==============================] - 0s 0s/step - loss: 0.0444 - mae: 0.0444\n",
      "Epoch 68/80\n",
      "1/1 [==============================] - 0s 0s/step - loss: 0.0430 - mae: 0.0430\n",
      "Epoch 69/80\n",
      "1/1 [==============================] - 0s 8ms/step - loss: 0.0406 - mae: 0.0406\n",
      "Epoch 70/80\n",
      "1/1 [==============================] - 0s 0s/step - loss: 0.0396 - mae: 0.0396\n",
      "Epoch 71/80\n",
      "1/1 [==============================] - 0s 0s/step - loss: 0.0369 - mae: 0.0369\n",
      "Epoch 72/80\n",
      "1/1 [==============================] - 0s 0s/step - loss: 0.0365 - mae: 0.0365\n",
      "Epoch 73/80\n",
      "1/1 [==============================] - 0s 0s/step - loss: 0.0410 - mae: 0.0410\n",
      "Epoch 74/80\n",
      "1/1 [==============================] - 0s 8ms/step - loss: 0.0692 - mae: 0.0692\n",
      "Epoch 75/80\n",
      "1/1 [==============================] - 0s 0s/step - loss: 0.0312 - mae: 0.0312\n",
      "Epoch 76/80\n",
      "1/1 [==============================] - 0s 0s/step - loss: 0.0309 - mae: 0.0309\n",
      "Epoch 77/80\n",
      "1/1 [==============================] - 0s 0s/step - loss: 0.0362 - mae: 0.0362\n",
      "Epoch 78/80\n",
      "1/1 [==============================] - 0s 0s/step - loss: 0.0358 - mae: 0.0358\n",
      "Epoch 79/80\n",
      "1/1 [==============================] - 0s 0s/step - loss: 0.0661 - mae: 0.0661\n",
      "Epoch 80/80\n",
      "1/1 [==============================] - 0s 0s/step - loss: 0.0256 - mae: 0.0256\n"
     ]
    },
    {
     "output_type": "execute_result",
     "data": {
      "text/plain": [
       "<tensorflow.python.keras.callbacks.History at 0x227f63234c0>"
      ]
     },
     "metadata": {},
     "execution_count": 39
    }
   ],
   "metadata": {}
  },
  {
   "cell_type": "code",
   "execution_count": 40,
   "source": [
    "X_train = x[:80]\r\n",
    "y_train = y1[:80]\r\n",
    "\r\n",
    "X_test = x[80:] \r\n",
    "y_test = y1[80:]\r\n",
    "\r\n",
    "len(X_train), len(X_test)"
   ],
   "outputs": [
    {
     "output_type": "execute_result",
     "data": {
      "text/plain": [
       "(12, 0)"
      ]
     },
     "metadata": {},
     "execution_count": 40
    }
   ],
   "metadata": {}
  },
  {
   "cell_type": "code",
   "execution_count": 41,
   "source": [
    "plt.figure(figsize=(15, 10))\r\n",
    "plt.scatter(X_train, y_train, c='b', label='Training data')\r\n",
    "plt.scatter(X_test, y_test, c='g', label='Testing data')\r\n",
    "plt.legend()"
   ],
   "outputs": [
    {
     "output_type": "execute_result",
     "data": {
      "text/plain": [
       "<matplotlib.legend.Legend at 0x227f6604820>"
      ]
     },
     "metadata": {},
     "execution_count": 41
    },
    {
     "output_type": "display_data",
     "data": {
      "image/png": "[encoded data removed]",
      "text/plain": [
       "<Figure size 1080x720 with 1 Axes>"
      ]
     },
     "metadata": {
      "needs_background": "light"
     }
    }
   ],
   "metadata": {}
  },
  {
   "cell_type": "code",
   "execution_count": 42,
   "source": [
    "model.summary()"
   ],
   "outputs": [
    {
     "output_type": "stream",
     "name": "stdout",
     "text": [
      "Model: \"sequential_3\"\n",
      "_________________________________________________________________\n",
      "Layer (type)                 Output Shape              Param #   \n",
      "=================================================================\n",
      "dense_9 (Dense)              (None, 1)                 2         \n",
      "=================================================================\n",
      "Total params: 2\n",
      "Trainable params: 2\n",
      "Non-trainable params: 0\n",
      "_________________________________________________________________\n"
     ]
    }
   ],
   "metadata": {}
  },
  {
   "cell_type": "code",
   "execution_count": 46,
   "source": [
    "model.fit(X_train, y_train, epochs=80, verbose=0)"
   ],
   "outputs": [
    {
     "output_type": "execute_result",
     "data": {
      "text/plain": [
       "<tensorflow.python.keras.callbacks.History at 0x227f7662bb0>"
      ]
     },
     "metadata": {},
     "execution_count": 46
    }
   ],
   "metadata": {}
  },
  {
   "cell_type": "code",
   "execution_count": 47,
   "source": [
    "model.predict([20.0])"
   ],
   "outputs": [
    {
     "output_type": "execute_result",
     "data": {
      "text/plain": [
       "array([[29.533686]], dtype=float32)"
      ]
     },
     "metadata": {},
     "execution_count": 47
    }
   ],
   "metadata": {}
  }
 ],
 "metadata": {
  "orig_nbformat": 4,
  "language_info": {
   "name": "python",
   "version": "3.8.8",
   "mimetype": "text/x-python",
   "codemirror_mode": {
    "name": "ipython",
    "version": 3
   },
   "pygments_lexer": "ipython3",
   "nbconvert_exporter": "python",
   "file_extension": ".py"
  },
  "kernelspec": {
   "name": "python3",
   "display_name": "Python 3.8.8 64-bit ('base': conda)"
  },
  "interpreter": {
   "hash": "75cd0ae9ecbec3ab72299e27db8b610059db44a2f7a4c5d8b808971e07cf7af1"
  }
 },
 "nbformat": 4,
 "nbformat_minor": 2
}