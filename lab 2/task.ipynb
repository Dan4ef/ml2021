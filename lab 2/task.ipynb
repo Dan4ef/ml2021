{
 "cells": [
  {
   "cell_type": "markdown",
   "source": [
    "#Лабораторна робота 2\r\n",
    "###Студента групи МІТ-31 (підгрупа 2)\r\n",
    "###Байди Данила Андрійовича\r\n",
    "##Завдання\r\n",
    "1. Створити набір даних за допомогою DatasetGenerator\r\n",
    "2. Завантажити набір даних для регресії на сайті (у кожного студента має бути інший - прошу організуватись відповідним чином)\r\n",
    "3. (опціонально для отримання відмінної оцінки) Згенерувати набір даних для регресії на основі звичайних можливостей Python.\r\n",
    "4. Для отриманих наборів даних провести встановленні кроки моделювання.\r\n",
    "5. Отримані результати викласти на github у репозиторій ml2021 в основну (default) гілку в папці Lab2.\r\n",
    "##Task 1"
   ],
   "metadata": {}
  },
  {
   "cell_type": "code",
   "execution_count": 7,
   "source": [
    "import pandas as pd\r\n",
    "import numpy as np\r\n",
    "import matplotlib.pyplot as plt\r\n",
    "import seaborn as sns\r\n",
    "from sklearn.datasets import make_regression\r\n",
    "\r\n",
    "X, y = make_regression(n_samples=128, n_features=10, n_informative=128, n_targets=1,  noise=0.0, shuffle=True, coef=False, random_state=None)\r\n",
    "\r\n",
    "print(X,y)"
   ],
   "outputs": [
    {
     "output_type": "stream",
     "name": "stdout",
     "text": [
      "[[ 0.24812818  1.46737726  1.03773291 ... -0.10606514  1.45385932\n",
      "  -0.71761202]\n",
      " [-0.93081279  0.03394981 -1.15517499 ... -0.23128683 -0.64808972\n",
      "   0.42740668]\n",
      " [-1.80431618  0.28688806 -0.92381805 ...  0.67014967 -0.37212653\n",
      "   0.36051479]\n",
      " ...\n",
      " [-0.79964422  0.85948913 -0.67959362 ...  0.47152734 -1.48157684\n",
      "   0.0152926 ]\n",
      " [-0.372123   -0.74437756 -0.91634224 ...  0.56553285  0.92103668\n",
      "   0.41999953]\n",
      " [ 2.79696928 -0.63642129  2.03923008 ... -0.1059639   1.70369066\n",
      "   0.55120733]] [ 1.20513388e+02 -9.91305989e+01 -2.12360356e+02 -2.41017953e+02\n",
      "  1.05750727e+02  2.40499442e+02  3.96217926e+01 -2.42401660e+02\n",
      "  2.03134158e+02 -1.16501222e+02 -3.09233659e+02  2.59363858e+01\n",
      "  1.96307527e+02  1.63713500e+01 -2.15793206e+02  4.83057116e+00\n",
      "  6.00145733e+01  1.57334118e+02  1.88947821e+02  1.39540057e+02\n",
      " -1.17209155e+02  7.93394682e+01  2.27318951e+02  1.21294762e+02\n",
      " -3.13310870e+01 -1.75803445e+02  2.92203846e+01 -9.59881945e+01\n",
      "  1.13497680e+02  1.39219475e+00  7.29031036e+01  1.99475404e+02\n",
      "  1.57110762e+02 -1.19229667e+02 -1.71269863e+02 -6.86952973e+01\n",
      "  2.03712547e+02  1.48254451e+02 -2.30731092e+02  2.49003720e+02\n",
      " -9.86976992e+01 -2.45619140e+02  4.66546218e+01 -3.08339057e+02\n",
      "  8.56652257e+00  1.76083623e+02 -1.87250057e+01  1.69955430e+02\n",
      "  1.51477250e+01 -4.76115267e+01  1.21552226e+02  1.85743264e+02\n",
      "  1.41250699e+02  1.08092748e+02 -5.92903620e+01 -1.64367138e+02\n",
      " -2.74221162e+02 -1.06464736e+02 -2.19224025e-01  2.81112643e+02\n",
      " -1.46335894e+02 -4.04009927e+01 -3.25859747e+01 -2.06977929e+01\n",
      "  6.60594141e+01  2.11711526e+02  4.36101626e+01 -9.80817726e+01\n",
      " -1.63483909e+02  1.71232231e+02 -4.10094186e+01  1.10065589e+02\n",
      " -1.08901252e+02 -3.35053550e+01 -2.04240118e+02 -1.90203945e+02\n",
      "  1.45030651e+02 -9.90738743e+01  1.52483801e+02 -2.29483436e+01\n",
      "  5.37794437e+01 -1.79820562e+02 -3.32468093e+02  1.72484435e+02\n",
      " -5.28983157e+01  1.55968411e+02 -1.18372823e+02 -1.58823758e+02\n",
      "  6.29197902e+01  3.99681455e+01  3.01171098e+02 -1.80849732e+01\n",
      " -3.75256528e+02 -1.71663594e+01  1.65176136e+02  2.62702331e+02\n",
      " -2.04204580e+00 -6.62496197e+01 -6.73749643e+01  1.13599218e+01\n",
      "  1.52112910e+01 -5.59272643e+01 -3.68214107e+02 -1.29618479e+02\n",
      " -9.08291874e+01  1.59465402e+02  3.88291219e+02  1.09054242e+02\n",
      "  2.09770663e+02  1.07748805e+02 -1.78316989e+02  3.33236395e+01\n",
      " -3.11412727e+02 -1.15131280e+02 -7.24669045e+02 -1.96351566e+01\n",
      " -3.13348904e+02  3.00634222e+02  3.11559737e+01  6.84567465e+01\n",
      " -1.90229744e+01 -4.19521682e+02 -7.79916965e+01  1.79022597e+02\n",
      " -8.71539804e+01 -6.26678307e+01 -6.01913473e+01  2.73522065e+02]\n"
     ]
    }
   ],
   "metadata": {}
  },
  {
   "cell_type": "code",
   "execution_count": 8,
   "source": [
    "df = pd.DataFrame(X, y)\r\n",
    "df.head()"
   ],
   "outputs": [
    {
     "output_type": "execute_result",
     "data": {
      "text/html": [
       "<div>\n",
       "<style scoped>\n",
       "    .dataframe tbody tr th:only-of-type {\n",
       "        vertical-align: middle;\n",
       "    }\n",
       "\n",
       "    .dataframe tbody tr th {\n",
       "        vertical-align: top;\n",
       "    }\n",
       "\n",
       "    .dataframe thead th {\n",
       "        text-align: right;\n",
       "    }\n",
       "</style>\n",
       "<table border=\"1\" class=\"dataframe\">\n",
       "  <thead>\n",
       "    <tr style=\"text-align: right;\">\n",
       "      <th></th>\n",
       "      <th>0</th>\n",
       "      <th>1</th>\n",
       "      <th>2</th>\n",
       "      <th>3</th>\n",
       "      <th>4</th>\n",
       "      <th>5</th>\n",
       "      <th>6</th>\n",
       "      <th>7</th>\n",
       "      <th>8</th>\n",
       "      <th>9</th>\n",
       "    </tr>\n",
       "  </thead>\n",
       "  <tbody>\n",
       "    <tr>\n",
       "      <th>120.513388</th>\n",
       "      <td>0.248128</td>\n",
       "      <td>1.467377</td>\n",
       "      <td>1.037733</td>\n",
       "      <td>1.257503</td>\n",
       "      <td>-1.697299</td>\n",
       "      <td>-0.051373</td>\n",
       "      <td>0.041670</td>\n",
       "      <td>-0.106065</td>\n",
       "      <td>1.453859</td>\n",
       "      <td>-0.717612</td>\n",
       "    </tr>\n",
       "    <tr>\n",
       "      <th>-99.130599</th>\n",
       "      <td>-0.930813</td>\n",
       "      <td>0.033950</td>\n",
       "      <td>-1.155175</td>\n",
       "      <td>-0.324771</td>\n",
       "      <td>0.682000</td>\n",
       "      <td>-0.364683</td>\n",
       "      <td>0.727791</td>\n",
       "      <td>-0.231287</td>\n",
       "      <td>-0.648090</td>\n",
       "      <td>0.427407</td>\n",
       "    </tr>\n",
       "    <tr>\n",
       "      <th>-212.360356</th>\n",
       "      <td>-1.804316</td>\n",
       "      <td>0.286888</td>\n",
       "      <td>-0.923818</td>\n",
       "      <td>0.691357</td>\n",
       "      <td>-0.680852</td>\n",
       "      <td>-0.527807</td>\n",
       "      <td>-1.265816</td>\n",
       "      <td>0.670150</td>\n",
       "      <td>-0.372127</td>\n",
       "      <td>0.360515</td>\n",
       "    </tr>\n",
       "    <tr>\n",
       "      <th>-241.017953</th>\n",
       "      <td>-0.768722</td>\n",
       "      <td>-0.099343</td>\n",
       "      <td>-1.469139</td>\n",
       "      <td>0.471805</td>\n",
       "      <td>-0.084604</td>\n",
       "      <td>-0.278821</td>\n",
       "      <td>-0.563747</td>\n",
       "      <td>-0.089370</td>\n",
       "      <td>0.023683</td>\n",
       "      <td>-1.122222</td>\n",
       "    </tr>\n",
       "    <tr>\n",
       "      <th>105.750727</th>\n",
       "      <td>-0.963318</td>\n",
       "      <td>0.838835</td>\n",
       "      <td>1.227562</td>\n",
       "      <td>0.235286</td>\n",
       "      <td>1.047754</td>\n",
       "      <td>-0.496517</td>\n",
       "      <td>-0.460188</td>\n",
       "      <td>-0.424157</td>\n",
       "      <td>-0.533065</td>\n",
       "      <td>-0.309628</td>\n",
       "    </tr>\n",
       "  </tbody>\n",
       "</table>\n",
       "</div>"
      ],
      "text/plain": [
       "                    0         1         2         3         4         5  \\\n",
       " 120.513388  0.248128  1.467377  1.037733  1.257503 -1.697299 -0.051373   \n",
       "-99.130599  -0.930813  0.033950 -1.155175 -0.324771  0.682000 -0.364683   \n",
       "-212.360356 -1.804316  0.286888 -0.923818  0.691357 -0.680852 -0.527807   \n",
       "-241.017953 -0.768722 -0.099343 -1.469139  0.471805 -0.084604 -0.278821   \n",
       " 105.750727 -0.963318  0.838835  1.227562  0.235286  1.047754 -0.496517   \n",
       "\n",
       "                    6         7         8         9  \n",
       " 120.513388  0.041670 -0.106065  1.453859 -0.717612  \n",
       "-99.130599   0.727791 -0.231287 -0.648090  0.427407  \n",
       "-212.360356 -1.265816  0.670150 -0.372127  0.360515  \n",
       "-241.017953 -0.563747 -0.089370  0.023683 -1.122222  \n",
       " 105.750727 -0.460188 -0.424157 -0.533065 -0.309628  "
      ]
     },
     "metadata": {},
     "execution_count": 8
    }
   ],
   "metadata": {}
  },
  {
   "cell_type": "code",
   "execution_count": 9,
   "source": [
    "df.info()"
   ],
   "outputs": [
    {
     "output_type": "stream",
     "name": "stdout",
     "text": [
      "<class 'pandas.core.frame.DataFrame'>\n",
      "Float64Index: 128 entries, 120.51338767745315 to 273.5220649453587\n",
      "Data columns (total 10 columns):\n",
      " #   Column  Non-Null Count  Dtype  \n",
      "---  ------  --------------  -----  \n",
      " 0   0       128 non-null    float64\n",
      " 1   1       128 non-null    float64\n",
      " 2   2       128 non-null    float64\n",
      " 3   3       128 non-null    float64\n",
      " 4   4       128 non-null    float64\n",
      " 5   5       128 non-null    float64\n",
      " 6   6       128 non-null    float64\n",
      " 7   7       128 non-null    float64\n",
      " 8   8       128 non-null    float64\n",
      " 9   9       128 non-null    float64\n",
      "dtypes: float64(10)\n",
      "memory usage: 11.0 KB\n"
     ]
    }
   ],
   "metadata": {}
  },
  {
   "cell_type": "code",
   "execution_count": 10,
   "source": [
    "df.describe()"
   ],
   "outputs": [
    {
     "output_type": "execute_result",
     "data": {
      "text/html": [
       "<div>\n",
       "<style scoped>\n",
       "    .dataframe tbody tr th:only-of-type {\n",
       "        vertical-align: middle;\n",
       "    }\n",
       "\n",
       "    .dataframe tbody tr th {\n",
       "        vertical-align: top;\n",
       "    }\n",
       "\n",
       "    .dataframe thead th {\n",
       "        text-align: right;\n",
       "    }\n",
       "</style>\n",
       "<table border=\"1\" class=\"dataframe\">\n",
       "  <thead>\n",
       "    <tr style=\"text-align: right;\">\n",
       "      <th></th>\n",
       "      <th>0</th>\n",
       "      <th>1</th>\n",
       "      <th>2</th>\n",
       "      <th>3</th>\n",
       "      <th>4</th>\n",
       "      <th>5</th>\n",
       "      <th>6</th>\n",
       "      <th>7</th>\n",
       "      <th>8</th>\n",
       "      <th>9</th>\n",
       "    </tr>\n",
       "  </thead>\n",
       "  <tbody>\n",
       "    <tr>\n",
       "      <th>count</th>\n",
       "      <td>128.000000</td>\n",
       "      <td>128.000000</td>\n",
       "      <td>128.000000</td>\n",
       "      <td>128.000000</td>\n",
       "      <td>128.000000</td>\n",
       "      <td>128.000000</td>\n",
       "      <td>128.000000</td>\n",
       "      <td>128.000000</td>\n",
       "      <td>128.000000</td>\n",
       "      <td>128.000000</td>\n",
       "    </tr>\n",
       "    <tr>\n",
       "      <th>mean</th>\n",
       "      <td>0.002412</td>\n",
       "      <td>-0.104216</td>\n",
       "      <td>-0.077123</td>\n",
       "      <td>-0.070074</td>\n",
       "      <td>0.110339</td>\n",
       "      <td>-0.017906</td>\n",
       "      <td>0.022674</td>\n",
       "      <td>-0.055403</td>\n",
       "      <td>-0.004598</td>\n",
       "      <td>0.010876</td>\n",
       "    </tr>\n",
       "    <tr>\n",
       "      <th>std</th>\n",
       "      <td>0.979975</td>\n",
       "      <td>0.989651</td>\n",
       "      <td>1.009071</td>\n",
       "      <td>0.973661</td>\n",
       "      <td>1.047830</td>\n",
       "      <td>1.023522</td>\n",
       "      <td>1.029474</td>\n",
       "      <td>0.963164</td>\n",
       "      <td>1.034013</td>\n",
       "      <td>1.029413</td>\n",
       "    </tr>\n",
       "    <tr>\n",
       "      <th>min</th>\n",
       "      <td>-1.990619</td>\n",
       "      <td>-2.577355</td>\n",
       "      <td>-2.227574</td>\n",
       "      <td>-2.913408</td>\n",
       "      <td>-2.304106</td>\n",
       "      <td>-2.423788</td>\n",
       "      <td>-2.375306</td>\n",
       "      <td>-2.167975</td>\n",
       "      <td>-3.114501</td>\n",
       "      <td>-2.594618</td>\n",
       "    </tr>\n",
       "    <tr>\n",
       "      <th>25%</th>\n",
       "      <td>-0.754822</td>\n",
       "      <td>-0.749290</td>\n",
       "      <td>-0.874995</td>\n",
       "      <td>-0.659777</td>\n",
       "      <td>-0.587989</td>\n",
       "      <td>-0.773569</td>\n",
       "      <td>-0.738461</td>\n",
       "      <td>-0.641604</td>\n",
       "      <td>-0.632980</td>\n",
       "      <td>-0.644802</td>\n",
       "    </tr>\n",
       "    <tr>\n",
       "      <th>50%</th>\n",
       "      <td>-0.059317</td>\n",
       "      <td>-0.050831</td>\n",
       "      <td>-0.058945</td>\n",
       "      <td>-0.083511</td>\n",
       "      <td>0.171729</td>\n",
       "      <td>0.053832</td>\n",
       "      <td>-0.017918</td>\n",
       "      <td>-0.170929</td>\n",
       "      <td>-0.038290</td>\n",
       "      <td>0.000014</td>\n",
       "    </tr>\n",
       "    <tr>\n",
       "      <th>75%</th>\n",
       "      <td>0.710171</td>\n",
       "      <td>0.673582</td>\n",
       "      <td>0.516647</td>\n",
       "      <td>0.691489</td>\n",
       "      <td>0.806781</td>\n",
       "      <td>0.616867</td>\n",
       "      <td>0.790714</td>\n",
       "      <td>0.615431</td>\n",
       "      <td>0.649165</td>\n",
       "      <td>0.561460</td>\n",
       "    </tr>\n",
       "    <tr>\n",
       "      <th>max</th>\n",
       "      <td>2.796969</td>\n",
       "      <td>2.471895</td>\n",
       "      <td>2.921587</td>\n",
       "      <td>2.109728</td>\n",
       "      <td>2.722629</td>\n",
       "      <td>2.738339</td>\n",
       "      <td>2.777952</td>\n",
       "      <td>2.539365</td>\n",
       "      <td>2.370590</td>\n",
       "      <td>2.689825</td>\n",
       "    </tr>\n",
       "  </tbody>\n",
       "</table>\n",
       "</div>"
      ],
      "text/plain": [
       "                0           1           2           3           4           5  \\\n",
       "count  128.000000  128.000000  128.000000  128.000000  128.000000  128.000000   \n",
       "mean     0.002412   -0.104216   -0.077123   -0.070074    0.110339   -0.017906   \n",
       "std      0.979975    0.989651    1.009071    0.973661    1.047830    1.023522   \n",
       "min     -1.990619   -2.577355   -2.227574   -2.913408   -2.304106   -2.423788   \n",
       "25%     -0.754822   -0.749290   -0.874995   -0.659777   -0.587989   -0.773569   \n",
       "50%     -0.059317   -0.050831   -0.058945   -0.083511    0.171729    0.053832   \n",
       "75%      0.710171    0.673582    0.516647    0.691489    0.806781    0.616867   \n",
       "max      2.796969    2.471895    2.921587    2.109728    2.722629    2.738339   \n",
       "\n",
       "                6           7           8           9  \n",
       "count  128.000000  128.000000  128.000000  128.000000  \n",
       "mean     0.022674   -0.055403   -0.004598    0.010876  \n",
       "std      1.029474    0.963164    1.034013    1.029413  \n",
       "min     -2.375306   -2.167975   -3.114501   -2.594618  \n",
       "25%     -0.738461   -0.641604   -0.632980   -0.644802  \n",
       "50%     -0.017918   -0.170929   -0.038290    0.000014  \n",
       "75%      0.790714    0.615431    0.649165    0.561460  \n",
       "max      2.777952    2.539365    2.370590    2.689825  "
      ]
     },
     "metadata": {},
     "execution_count": 10
    }
   ],
   "metadata": {}
  },
  {
   "cell_type": "code",
   "execution_count": 11,
   "source": [
    "corr = df.corr()\r\n",
    "sns.heatmap(corr, cmap=\"rainbow\")"
   ],
   "outputs": [
    {
     "output_type": "execute_result",
     "data": {
      "text/plain": [
       "<AxesSubplot:>"
      ]
     },
     "metadata": {},
     "execution_count": 11
    },
    {
     "output_type": "display_data",
     "data": {
      "image/png": "[encoded data removed]",
      "text/plain": [
       "<Figure size 432x288 with 2 Axes>"
      ]
     },
     "metadata": {
      "needs_background": "light"
     }
    }
   ],
   "metadata": {}
  },
  {
   "cell_type": "markdown",
   "source": [
    "##Task 2"
   ],
   "metadata": {}
  },
  {
   "cell_type": "code",
   "execution_count": 12,
   "source": [
    "df = pd.read_csv('teams_fifa22.csv')\r\n",
    "df.head()"
   ],
   "outputs": [
    {
     "output_type": "execute_result",
     "data": {
      "text/html": [
       "<div>\n",
       "<style scoped>\n",
       "    .dataframe tbody tr th:only-of-type {\n",
       "        vertical-align: middle;\n",
       "    }\n",
       "\n",
       "    .dataframe tbody tr th {\n",
       "        vertical-align: top;\n",
       "    }\n",
       "\n",
       "    .dataframe thead th {\n",
       "        text-align: right;\n",
       "    }\n",
       "</style>\n",
       "<table border=\"1\" class=\"dataframe\">\n",
       "  <thead>\n",
       "    <tr style=\"text-align: right;\">\n",
       "      <th></th>\n",
       "      <th>ID</th>\n",
       "      <th>Name</th>\n",
       "      <th>League</th>\n",
       "      <th>LeagueId</th>\n",
       "      <th>Overall</th>\n",
       "      <th>Attack</th>\n",
       "      <th>Midfield</th>\n",
       "      <th>Defence</th>\n",
       "      <th>TransferBudget</th>\n",
       "      <th>DomesticPrestige</th>\n",
       "      <th>IntPrestige</th>\n",
       "      <th>Players</th>\n",
       "      <th>StartingAverageAge</th>\n",
       "      <th>AllTeamAverageAge</th>\n",
       "    </tr>\n",
       "  </thead>\n",
       "  <tbody>\n",
       "    <tr>\n",
       "      <th>0</th>\n",
       "      <td>1</td>\n",
       "      <td>Arsenal</td>\n",
       "      <td>English Premier League (1)</td>\n",
       "      <td>13</td>\n",
       "      <td>79</td>\n",
       "      <td>83</td>\n",
       "      <td>81</td>\n",
       "      <td>77</td>\n",
       "      <td>77500000</td>\n",
       "      <td>7</td>\n",
       "      <td>7</td>\n",
       "      <td>33</td>\n",
       "      <td>25.4</td>\n",
       "      <td>23.3</td>\n",
       "    </tr>\n",
       "    <tr>\n",
       "      <th>1</th>\n",
       "      <td>2</td>\n",
       "      <td>Aston Villa</td>\n",
       "      <td>English Premier League (1)</td>\n",
       "      <td>13</td>\n",
       "      <td>78</td>\n",
       "      <td>78</td>\n",
       "      <td>76</td>\n",
       "      <td>77</td>\n",
       "      <td>37500000</td>\n",
       "      <td>4</td>\n",
       "      <td>3</td>\n",
       "      <td>31</td>\n",
       "      <td>24.9</td>\n",
       "      <td>23.3</td>\n",
       "    </tr>\n",
       "    <tr>\n",
       "      <th>2</th>\n",
       "      <td>1925</td>\n",
       "      <td>Brentford</td>\n",
       "      <td>English Premier League (1)</td>\n",
       "      <td>13</td>\n",
       "      <td>73</td>\n",
       "      <td>73</td>\n",
       "      <td>74</td>\n",
       "      <td>73</td>\n",
       "      <td>18000000</td>\n",
       "      <td>1</td>\n",
       "      <td>1</td>\n",
       "      <td>33</td>\n",
       "      <td>24.7</td>\n",
       "      <td>23.4</td>\n",
       "    </tr>\n",
       "    <tr>\n",
       "      <th>3</th>\n",
       "      <td>1808</td>\n",
       "      <td>Brighton &amp; Hove Albion</td>\n",
       "      <td>English Premier League (1)</td>\n",
       "      <td>13</td>\n",
       "      <td>76</td>\n",
       "      <td>75</td>\n",
       "      <td>77</td>\n",
       "      <td>75</td>\n",
       "      <td>28000000</td>\n",
       "      <td>2</td>\n",
       "      <td>1</td>\n",
       "      <td>33</td>\n",
       "      <td>26.9</td>\n",
       "      <td>23.5</td>\n",
       "    </tr>\n",
       "    <tr>\n",
       "      <th>4</th>\n",
       "      <td>1796</td>\n",
       "      <td>Burnley</td>\n",
       "      <td>English Premier League (1)</td>\n",
       "      <td>13</td>\n",
       "      <td>76</td>\n",
       "      <td>76</td>\n",
       "      <td>76</td>\n",
       "      <td>77</td>\n",
       "      <td>22000000</td>\n",
       "      <td>2</td>\n",
       "      <td>1</td>\n",
       "      <td>33</td>\n",
       "      <td>28.6</td>\n",
       "      <td>26.6</td>\n",
       "    </tr>\n",
       "  </tbody>\n",
       "</table>\n",
       "</div>"
      ],
      "text/plain": [
       "     ID                    Name                      League  LeagueId  \\\n",
       "0     1                 Arsenal  English Premier League (1)        13   \n",
       "1     2             Aston Villa  English Premier League (1)        13   \n",
       "2  1925               Brentford  English Premier League (1)        13   \n",
       "3  1808  Brighton & Hove Albion  English Premier League (1)        13   \n",
       "4  1796                 Burnley  English Premier League (1)        13   \n",
       "\n",
       "   Overall  Attack  Midfield  Defence  TransferBudget  DomesticPrestige  \\\n",
       "0       79      83        81       77        77500000                 7   \n",
       "1       78      78        76       77        37500000                 4   \n",
       "2       73      73        74       73        18000000                 1   \n",
       "3       76      75        77       75        28000000                 2   \n",
       "4       76      76        76       77        22000000                 2   \n",
       "\n",
       "   IntPrestige  Players  StartingAverageAge  AllTeamAverageAge  \n",
       "0            7       33                25.4               23.3  \n",
       "1            3       31                24.9               23.3  \n",
       "2            1       33                24.7               23.4  \n",
       "3            1       33                26.9               23.5  \n",
       "4            1       33                28.6               26.6  "
      ]
     },
     "metadata": {},
     "execution_count": 12
    }
   ],
   "metadata": {}
  },
  {
   "cell_type": "code",
   "execution_count": 13,
   "source": [
    "df.info()"
   ],
   "outputs": [
    {
     "output_type": "stream",
     "name": "stdout",
     "text": [
      "<class 'pandas.core.frame.DataFrame'>\n",
      "RangeIndex: 734 entries, 0 to 733\n",
      "Data columns (total 14 columns):\n",
      " #   Column              Non-Null Count  Dtype  \n",
      "---  ------              --------------  -----  \n",
      " 0   ID                  734 non-null    int64  \n",
      " 1   Name                734 non-null    object \n",
      " 2   League              734 non-null    object \n",
      " 3   LeagueId            734 non-null    int64  \n",
      " 4   Overall             734 non-null    int64  \n",
      " 5   Attack              734 non-null    int64  \n",
      " 6   Midfield            734 non-null    int64  \n",
      " 7   Defence             734 non-null    int64  \n",
      " 8   TransferBudget      734 non-null    int64  \n",
      " 9   DomesticPrestige    734 non-null    int64  \n",
      " 10  IntPrestige         734 non-null    int64  \n",
      " 11  Players             734 non-null    int64  \n",
      " 12  StartingAverageAge  734 non-null    float64\n",
      " 13  AllTeamAverageAge   734 non-null    float64\n",
      "dtypes: float64(2), int64(10), object(2)\n",
      "memory usage: 80.4+ KB\n"
     ]
    }
   ],
   "metadata": {}
  },
  {
   "cell_type": "code",
   "execution_count": 14,
   "source": [
    "df.describe()"
   ],
   "outputs": [
    {
     "output_type": "execute_result",
     "data": {
      "text/html": [
       "<div>\n",
       "<style scoped>\n",
       "    .dataframe tbody tr th:only-of-type {\n",
       "        vertical-align: middle;\n",
       "    }\n",
       "\n",
       "    .dataframe tbody tr th {\n",
       "        vertical-align: top;\n",
       "    }\n",
       "\n",
       "    .dataframe thead th {\n",
       "        text-align: right;\n",
       "    }\n",
       "</style>\n",
       "<table border=\"1\" class=\"dataframe\">\n",
       "  <thead>\n",
       "    <tr style=\"text-align: right;\">\n",
       "      <th></th>\n",
       "      <th>ID</th>\n",
       "      <th>LeagueId</th>\n",
       "      <th>Overall</th>\n",
       "      <th>Attack</th>\n",
       "      <th>Midfield</th>\n",
       "      <th>Defence</th>\n",
       "      <th>TransferBudget</th>\n",
       "      <th>DomesticPrestige</th>\n",
       "      <th>IntPrestige</th>\n",
       "      <th>Players</th>\n",
       "      <th>StartingAverageAge</th>\n",
       "      <th>AllTeamAverageAge</th>\n",
       "    </tr>\n",
       "  </thead>\n",
       "  <tbody>\n",
       "    <tr>\n",
       "      <th>count</th>\n",
       "      <td>734.000000</td>\n",
       "      <td>734.000000</td>\n",
       "      <td>734.000000</td>\n",
       "      <td>734.000000</td>\n",
       "      <td>734.000000</td>\n",
       "      <td>734.000000</td>\n",
       "      <td>7.340000e+02</td>\n",
       "      <td>734.00000</td>\n",
       "      <td>734.000000</td>\n",
       "      <td>734.000000</td>\n",
       "      <td>734.000000</td>\n",
       "      <td>734.000000</td>\n",
       "    </tr>\n",
       "    <tr>\n",
       "      <th>mean</th>\n",
       "      <td>49807.358311</td>\n",
       "      <td>308.035422</td>\n",
       "      <td>68.867847</td>\n",
       "      <td>69.325613</td>\n",
       "      <td>68.896458</td>\n",
       "      <td>68.186649</td>\n",
       "      <td>9.032819e+06</td>\n",
       "      <td>5.50545</td>\n",
       "      <td>2.728883</td>\n",
       "      <td>27.162125</td>\n",
       "      <td>26.802044</td>\n",
       "      <td>25.287330</td>\n",
       "    </tr>\n",
       "    <tr>\n",
       "      <th>std</th>\n",
       "      <td>54354.884897</td>\n",
       "      <td>538.580278</td>\n",
       "      <td>5.318785</td>\n",
       "      <td>5.794948</td>\n",
       "      <td>5.360679</td>\n",
       "      <td>5.281364</td>\n",
       "      <td>1.779685e+07</td>\n",
       "      <td>2.86425</td>\n",
       "      <td>2.215242</td>\n",
       "      <td>2.942771</td>\n",
       "      <td>1.703654</td>\n",
       "      <td>1.473602</td>\n",
       "    </tr>\n",
       "    <tr>\n",
       "      <th>min</th>\n",
       "      <td>1.000000</td>\n",
       "      <td>1.000000</td>\n",
       "      <td>55.000000</td>\n",
       "      <td>52.000000</td>\n",
       "      <td>54.000000</td>\n",
       "      <td>55.000000</td>\n",
       "      <td>0.000000e+00</td>\n",
       "      <td>1.00000</td>\n",
       "      <td>1.000000</td>\n",
       "      <td>19.000000</td>\n",
       "      <td>21.000000</td>\n",
       "      <td>20.100000</td>\n",
       "    </tr>\n",
       "    <tr>\n",
       "      <th>25%</th>\n",
       "      <td>581.500000</td>\n",
       "      <td>31.000000</td>\n",
       "      <td>65.000000</td>\n",
       "      <td>65.000000</td>\n",
       "      <td>65.000000</td>\n",
       "      <td>64.000000</td>\n",
       "      <td>1.700000e+06</td>\n",
       "      <td>3.00000</td>\n",
       "      <td>1.000000</td>\n",
       "      <td>26.000000</td>\n",
       "      <td>25.600000</td>\n",
       "      <td>24.300000</td>\n",
       "    </tr>\n",
       "    <tr>\n",
       "      <th>50%</th>\n",
       "      <td>1928.500000</td>\n",
       "      <td>61.000000</td>\n",
       "      <td>68.000000</td>\n",
       "      <td>69.000000</td>\n",
       "      <td>68.000000</td>\n",
       "      <td>67.500000</td>\n",
       "      <td>3.500000e+06</td>\n",
       "      <td>5.00000</td>\n",
       "      <td>2.000000</td>\n",
       "      <td>28.000000</td>\n",
       "      <td>26.800000</td>\n",
       "      <td>25.300000</td>\n",
       "    </tr>\n",
       "    <tr>\n",
       "      <th>75%</th>\n",
       "      <td>111127.500000</td>\n",
       "      <td>341.000000</td>\n",
       "      <td>72.000000</td>\n",
       "      <td>73.000000</td>\n",
       "      <td>72.000000</td>\n",
       "      <td>71.000000</td>\n",
       "      <td>8.500000e+06</td>\n",
       "      <td>8.00000</td>\n",
       "      <td>4.000000</td>\n",
       "      <td>29.000000</td>\n",
       "      <td>28.000000</td>\n",
       "      <td>26.300000</td>\n",
       "    </tr>\n",
       "    <tr>\n",
       "      <th>max</th>\n",
       "      <td>115820.000000</td>\n",
       "      <td>2149.000000</td>\n",
       "      <td>86.000000</td>\n",
       "      <td>92.000000</td>\n",
       "      <td>86.000000</td>\n",
       "      <td>86.000000</td>\n",
       "      <td>1.760000e+08</td>\n",
       "      <td>10.00000</td>\n",
       "      <td>10.000000</td>\n",
       "      <td>33.000000</td>\n",
       "      <td>32.100000</td>\n",
       "      <td>30.200000</td>\n",
       "    </tr>\n",
       "  </tbody>\n",
       "</table>\n",
       "</div>"
      ],
      "text/plain": [
       "                  ID     LeagueId     Overall      Attack    Midfield  \\\n",
       "count     734.000000   734.000000  734.000000  734.000000  734.000000   \n",
       "mean    49807.358311   308.035422   68.867847   69.325613   68.896458   \n",
       "std     54354.884897   538.580278    5.318785    5.794948    5.360679   \n",
       "min         1.000000     1.000000   55.000000   52.000000   54.000000   \n",
       "25%       581.500000    31.000000   65.000000   65.000000   65.000000   \n",
       "50%      1928.500000    61.000000   68.000000   69.000000   68.000000   \n",
       "75%    111127.500000   341.000000   72.000000   73.000000   72.000000   \n",
       "max    115820.000000  2149.000000   86.000000   92.000000   86.000000   \n",
       "\n",
       "          Defence  TransferBudget  DomesticPrestige  IntPrestige     Players  \\\n",
       "count  734.000000    7.340000e+02         734.00000   734.000000  734.000000   \n",
       "mean    68.186649    9.032819e+06           5.50545     2.728883   27.162125   \n",
       "std      5.281364    1.779685e+07           2.86425     2.215242    2.942771   \n",
       "min     55.000000    0.000000e+00           1.00000     1.000000   19.000000   \n",
       "25%     64.000000    1.700000e+06           3.00000     1.000000   26.000000   \n",
       "50%     67.500000    3.500000e+06           5.00000     2.000000   28.000000   \n",
       "75%     71.000000    8.500000e+06           8.00000     4.000000   29.000000   \n",
       "max     86.000000    1.760000e+08          10.00000    10.000000   33.000000   \n",
       "\n",
       "       StartingAverageAge  AllTeamAverageAge  \n",
       "count          734.000000         734.000000  \n",
       "mean            26.802044          25.287330  \n",
       "std              1.703654           1.473602  \n",
       "min             21.000000          20.100000  \n",
       "25%             25.600000          24.300000  \n",
       "50%             26.800000          25.300000  \n",
       "75%             28.000000          26.300000  \n",
       "max             32.100000          30.200000  "
      ]
     },
     "metadata": {},
     "execution_count": 14
    }
   ],
   "metadata": {}
  },
  {
   "cell_type": "code",
   "execution_count": 15,
   "source": [
    "corr = df.corr()\r\n",
    "sns.heatmap(corr, cmap=\"YlGnBu\")"
   ],
   "outputs": [
    {
     "output_type": "execute_result",
     "data": {
      "text/plain": [
       "<AxesSubplot:>"
      ]
     },
     "metadata": {},
     "execution_count": 15
    },
    {
     "output_type": "display_data",
     "data": {
      "image/png": "[encoded data removed]",
      "text/plain": [
       "<Figure size 432x288 with 2 Axes>"
      ]
     },
     "metadata": {
      "needs_background": "light"
     }
    }
   ],
   "metadata": {}
  },
  {
   "cell_type": "code",
   "execution_count": 23,
   "source": [
    "import sklearn\r\n",
    "from sklearn.model_selection import train_test_split\r\n",
    "columns=df.columns #label не використовую, він не типу int або float\r\n",
    "columns=columns[:9]\r\n",
    "X=df[['Overall', 'Attack', 'Midfield', 'Defence', 'TransferBudget', 'DomesticPrestige', 'IntPrestige', 'Players', 'StartingAverageAge']]\r\n",
    "\r\n",
    "y=df[['AllTeamAverageAge']]\r\n",
    "\r\n",
    "X_train,X_test,y_train,y_test = train_test_split(X,y,test_size=0.3)\r\n",
    "\r\n",
    "from sklearn.linear_model import LinearRegression\r\n",
    "\r\n",
    "lr = LinearRegression()\r\n",
    "\r\n",
    "lr.fit(X_train,y_train)"
   ],
   "outputs": [
    {
     "output_type": "execute_result",
     "data": {
      "text/plain": [
       "LinearRegression()"
      ]
     },
     "metadata": {},
     "execution_count": 23
    }
   ],
   "metadata": {}
  },
  {
   "cell_type": "code",
   "execution_count": 24,
   "source": [
    "\r\n",
    "y_Hat = lr.predict(X_test)"
   ],
   "outputs": [],
   "metadata": {}
  },
  {
   "cell_type": "code",
   "execution_count": 25,
   "source": [
    "from sklearn.metrics import mean_absolute_error\r\n",
    "\r\n",
    "mean_absolute_error(y_test, y_Hat)"
   ],
   "outputs": [
    {
     "output_type": "execute_result",
     "data": {
      "text/plain": [
       "0.6776394974904929"
      ]
     },
     "metadata": {},
     "execution_count": 25
    }
   ],
   "metadata": {}
  },
  {
   "cell_type": "code",
   "execution_count": 26,
   "source": [
    "from sklearn.metrics import mean_squared_error \r\n",
    "\r\n",
    "mean_squared_error(y_test, y_Hat)"
   ],
   "outputs": [
    {
     "output_type": "execute_result",
     "data": {
      "text/plain": [
       "0.7642565584001886"
      ]
     },
     "metadata": {},
     "execution_count": 26
    }
   ],
   "metadata": {}
  },
  {
   "cell_type": "code",
   "execution_count": 35,
   "source": [
    "res = pd.DataFrame(y_test)\r\n",
    "res['AllTeamAverageAge_predicted'] = y_Hat\r\n",
    "\r\n",
    "res.head()"
   ],
   "outputs": [
    {
     "output_type": "execute_result",
     "data": {
      "text/html": [
       "<div>\n",
       "<style scoped>\n",
       "    .dataframe tbody tr th:only-of-type {\n",
       "        vertical-align: middle;\n",
       "    }\n",
       "\n",
       "    .dataframe tbody tr th {\n",
       "        vertical-align: top;\n",
       "    }\n",
       "\n",
       "    .dataframe thead th {\n",
       "        text-align: right;\n",
       "    }\n",
       "</style>\n",
       "<table border=\"1\" class=\"dataframe\">\n",
       "  <thead>\n",
       "    <tr style=\"text-align: right;\">\n",
       "      <th></th>\n",
       "      <th>AllTeamAverageAge</th>\n",
       "      <th>AllTeamAverageAge_predicted</th>\n",
       "    </tr>\n",
       "  </thead>\n",
       "  <tbody>\n",
       "    <tr>\n",
       "      <th>139</th>\n",
       "      <td>23.4</td>\n",
       "      <td>23.176088</td>\n",
       "    </tr>\n",
       "    <tr>\n",
       "      <th>86</th>\n",
       "      <td>27.5</td>\n",
       "      <td>27.455468</td>\n",
       "    </tr>\n",
       "    <tr>\n",
       "      <th>133</th>\n",
       "      <td>24.1</td>\n",
       "      <td>24.235263</td>\n",
       "    </tr>\n",
       "    <tr>\n",
       "      <th>474</th>\n",
       "      <td>26.8</td>\n",
       "      <td>26.305940</td>\n",
       "    </tr>\n",
       "    <tr>\n",
       "      <th>213</th>\n",
       "      <td>24.6</td>\n",
       "      <td>24.575121</td>\n",
       "    </tr>\n",
       "  </tbody>\n",
       "</table>\n",
       "</div>"
      ],
      "text/plain": [
       "     AllTeamAverageAge  AllTeamAverageAge_predicted\n",
       "139               23.4                    23.176088\n",
       "86                27.5                    27.455468\n",
       "133               24.1                    24.235263\n",
       "474               26.8                    26.305940\n",
       "213               24.6                    24.575121"
      ]
     },
     "metadata": {},
     "execution_count": 35
    }
   ],
   "metadata": {}
  },
  {
   "cell_type": "code",
   "execution_count": 39,
   "source": [
    "plt.scatter(res['AllTeamAverageAge'],res['AllTeamAverageAge_predicted'])"
   ],
   "outputs": [
    {
     "output_type": "execute_result",
     "data": {
      "text/plain": [
       "<matplotlib.collections.PathCollection at 0x27b4d818c70>"
      ]
     },
     "metadata": {},
     "execution_count": 39
    },
    {
     "output_type": "display_data",
     "data": {
      "image/png": "[encoded data removed]",
      "text/plain": [
       "<Figure size 432x288 with 1 Axes>"
      ]
     },
     "metadata": {
      "needs_background": "light"
     }
    }
   ],
   "metadata": {}
  },
  {
   "cell_type": "markdown",
   "source": [
    "##Task 3"
   ],
   "metadata": {}
  },
  {
   "cell_type": "code",
   "execution_count": 111,
   "source": [
    "import random as rnd\r\n",
    "\r\n",
    "gender = {1:'male', 0:'female'}\r\n",
    "age = {1:'<30', 0:'>30'}\r\n",
    "personal_computer = {1:'have', 0:'dont have'}\r\n",
    "ubisoft_account = {1:'YES', 0:'NO'}\r\n",
    "games = {0:'0', 1:'1', 2:'2', 3:'More than 3'}\r\n",
    "origin = {0:'West_Europe', 1:'East_Europe', 2:'USA', 3:'Another'}\r\n",
    "data = []\r\n",
    "for i in range(0, 512):\r\n",
    "    row = []\r\n",
    "    row.append(gender[rnd.randint(0, 1)])\r\n",
    "    row.append(age[rnd.randint(0, 1)])\r\n",
    "    row.append(personal_computer[rnd.randint(0, 1)])\r\n",
    "    row.append(ubisoft_account[rnd.randint(0, 1)])\r\n",
    "    row.append(games[rnd.randint(0, 3)])\r\n",
    "    row.append(origin[rnd.randint(0, 3)])\r\n",
    "    row.append(round(rnd.uniform(1, 100), 2))\r\n",
    "    row.append(round(rnd.uniform(0, 1), 2))\r\n",
    "    data.append(row)\r\n",
    "df = pd.DataFrame(data, columns=['gender', 'age', 'personal_computer', 'ubisoft_account', 'games', 'origin', 'income_for_the_platform', 'platform_feedback'])\r\n",
    "\r\n",
    "\r\n",
    "df.replace({'male': 1, 'female':0, '<30': 1, '>30':0, 'have':1, 'dont have':0, 'YES':1, 'NO':0, '0':0, '1':1, '2':2, 'More than 3':3, 'West_Europe': 0, 'East_Europe':1, 'USA':2, 'Another':3}, None, True)\r\n",
    "\r\n",
    "df.head()"
   ],
   "outputs": [
    {
     "output_type": "execute_result",
     "data": {
      "text/html": [
       "<div>\n",
       "<style scoped>\n",
       "    .dataframe tbody tr th:only-of-type {\n",
       "        vertical-align: middle;\n",
       "    }\n",
       "\n",
       "    .dataframe tbody tr th {\n",
       "        vertical-align: top;\n",
       "    }\n",
       "\n",
       "    .dataframe thead th {\n",
       "        text-align: right;\n",
       "    }\n",
       "</style>\n",
       "<table border=\"1\" class=\"dataframe\">\n",
       "  <thead>\n",
       "    <tr style=\"text-align: right;\">\n",
       "      <th></th>\n",
       "      <th>gender</th>\n",
       "      <th>age</th>\n",
       "      <th>personal_computer</th>\n",
       "      <th>ubisoft_account</th>\n",
       "      <th>games</th>\n",
       "      <th>origin</th>\n",
       "      <th>income_for_the_platform</th>\n",
       "      <th>platform_feedback</th>\n",
       "    </tr>\n",
       "  </thead>\n",
       "  <tbody>\n",
       "    <tr>\n",
       "      <th>0</th>\n",
       "      <td>0</td>\n",
       "      <td>0</td>\n",
       "      <td>1</td>\n",
       "      <td>1</td>\n",
       "      <td>0</td>\n",
       "      <td>2</td>\n",
       "      <td>41.12</td>\n",
       "      <td>0.86</td>\n",
       "    </tr>\n",
       "    <tr>\n",
       "      <th>1</th>\n",
       "      <td>0</td>\n",
       "      <td>0</td>\n",
       "      <td>1</td>\n",
       "      <td>0</td>\n",
       "      <td>1</td>\n",
       "      <td>3</td>\n",
       "      <td>49.35</td>\n",
       "      <td>0.68</td>\n",
       "    </tr>\n",
       "    <tr>\n",
       "      <th>2</th>\n",
       "      <td>1</td>\n",
       "      <td>1</td>\n",
       "      <td>1</td>\n",
       "      <td>1</td>\n",
       "      <td>0</td>\n",
       "      <td>3</td>\n",
       "      <td>77.92</td>\n",
       "      <td>0.18</td>\n",
       "    </tr>\n",
       "    <tr>\n",
       "      <th>3</th>\n",
       "      <td>0</td>\n",
       "      <td>1</td>\n",
       "      <td>1</td>\n",
       "      <td>0</td>\n",
       "      <td>2</td>\n",
       "      <td>1</td>\n",
       "      <td>39.42</td>\n",
       "      <td>0.34</td>\n",
       "    </tr>\n",
       "    <tr>\n",
       "      <th>4</th>\n",
       "      <td>1</td>\n",
       "      <td>1</td>\n",
       "      <td>0</td>\n",
       "      <td>1</td>\n",
       "      <td>0</td>\n",
       "      <td>1</td>\n",
       "      <td>50.26</td>\n",
       "      <td>0.17</td>\n",
       "    </tr>\n",
       "  </tbody>\n",
       "</table>\n",
       "</div>"
      ],
      "text/plain": [
       "   gender  age  personal_computer  ubisoft_account  games  origin  \\\n",
       "0       0    0                  1                1      0       2   \n",
       "1       0    0                  1                0      1       3   \n",
       "2       1    1                  1                1      0       3   \n",
       "3       0    1                  1                0      2       1   \n",
       "4       1    1                  0                1      0       1   \n",
       "\n",
       "   income_for_the_platform  platform_feedback  \n",
       "0                    41.12               0.86  \n",
       "1                    49.35               0.68  \n",
       "2                    77.92               0.18  \n",
       "3                    39.42               0.34  \n",
       "4                    50.26               0.17  "
      ]
     },
     "metadata": {},
     "execution_count": 111
    }
   ],
   "metadata": {}
  },
  {
   "cell_type": "code",
   "execution_count": 112,
   "source": [
    "df.info()"
   ],
   "outputs": [
    {
     "output_type": "stream",
     "name": "stdout",
     "text": [
      "<class 'pandas.core.frame.DataFrame'>\n",
      "RangeIndex: 512 entries, 0 to 511\n",
      "Data columns (total 8 columns):\n",
      " #   Column                   Non-Null Count  Dtype  \n",
      "---  ------                   --------------  -----  \n",
      " 0   gender                   512 non-null    int64  \n",
      " 1   age                      512 non-null    int64  \n",
      " 2   personal_computer        512 non-null    int64  \n",
      " 3   ubisoft_account          512 non-null    int64  \n",
      " 4   games                    512 non-null    int64  \n",
      " 5   origin                   512 non-null    int64  \n",
      " 6   income_for_the_platform  512 non-null    float64\n",
      " 7   platform_feedback        512 non-null    float64\n",
      "dtypes: float64(2), int64(6)\n",
      "memory usage: 32.1 KB\n"
     ]
    }
   ],
   "metadata": {}
  },
  {
   "cell_type": "code",
   "execution_count": 113,
   "source": [
    "df.describe()"
   ],
   "outputs": [
    {
     "output_type": "execute_result",
     "data": {
      "text/html": [
       "<div>\n",
       "<style scoped>\n",
       "    .dataframe tbody tr th:only-of-type {\n",
       "        vertical-align: middle;\n",
       "    }\n",
       "\n",
       "    .dataframe tbody tr th {\n",
       "        vertical-align: top;\n",
       "    }\n",
       "\n",
       "    .dataframe thead th {\n",
       "        text-align: right;\n",
       "    }\n",
       "</style>\n",
       "<table border=\"1\" class=\"dataframe\">\n",
       "  <thead>\n",
       "    <tr style=\"text-align: right;\">\n",
       "      <th></th>\n",
       "      <th>gender</th>\n",
       "      <th>age</th>\n",
       "      <th>personal_computer</th>\n",
       "      <th>ubisoft_account</th>\n",
       "      <th>games</th>\n",
       "      <th>origin</th>\n",
       "      <th>income_for_the_platform</th>\n",
       "      <th>platform_feedback</th>\n",
       "    </tr>\n",
       "  </thead>\n",
       "  <tbody>\n",
       "    <tr>\n",
       "      <th>count</th>\n",
       "      <td>512.000000</td>\n",
       "      <td>512.000000</td>\n",
       "      <td>512.000000</td>\n",
       "      <td>512.000000</td>\n",
       "      <td>512.000000</td>\n",
       "      <td>512.000000</td>\n",
       "      <td>512.000000</td>\n",
       "      <td>512.000000</td>\n",
       "    </tr>\n",
       "    <tr>\n",
       "      <th>mean</th>\n",
       "      <td>0.464844</td>\n",
       "      <td>0.474609</td>\n",
       "      <td>0.458984</td>\n",
       "      <td>0.476562</td>\n",
       "      <td>1.500000</td>\n",
       "      <td>1.501953</td>\n",
       "      <td>49.380098</td>\n",
       "      <td>0.501914</td>\n",
       "    </tr>\n",
       "    <tr>\n",
       "      <th>std</th>\n",
       "      <td>0.499250</td>\n",
       "      <td>0.499843</td>\n",
       "      <td>0.498802</td>\n",
       "      <td>0.499939</td>\n",
       "      <td>1.101502</td>\n",
       "      <td>1.096158</td>\n",
       "      <td>27.532810</td>\n",
       "      <td>0.285897</td>\n",
       "    </tr>\n",
       "    <tr>\n",
       "      <th>min</th>\n",
       "      <td>0.000000</td>\n",
       "      <td>0.000000</td>\n",
       "      <td>0.000000</td>\n",
       "      <td>0.000000</td>\n",
       "      <td>0.000000</td>\n",
       "      <td>0.000000</td>\n",
       "      <td>1.650000</td>\n",
       "      <td>0.000000</td>\n",
       "    </tr>\n",
       "    <tr>\n",
       "      <th>25%</th>\n",
       "      <td>0.000000</td>\n",
       "      <td>0.000000</td>\n",
       "      <td>0.000000</td>\n",
       "      <td>0.000000</td>\n",
       "      <td>1.000000</td>\n",
       "      <td>1.000000</td>\n",
       "      <td>26.027500</td>\n",
       "      <td>0.250000</td>\n",
       "    </tr>\n",
       "    <tr>\n",
       "      <th>50%</th>\n",
       "      <td>0.000000</td>\n",
       "      <td>0.000000</td>\n",
       "      <td>0.000000</td>\n",
       "      <td>0.000000</td>\n",
       "      <td>1.000000</td>\n",
       "      <td>1.000000</td>\n",
       "      <td>49.275000</td>\n",
       "      <td>0.510000</td>\n",
       "    </tr>\n",
       "    <tr>\n",
       "      <th>75%</th>\n",
       "      <td>1.000000</td>\n",
       "      <td>1.000000</td>\n",
       "      <td>1.000000</td>\n",
       "      <td>1.000000</td>\n",
       "      <td>2.000000</td>\n",
       "      <td>2.000000</td>\n",
       "      <td>72.852500</td>\n",
       "      <td>0.750000</td>\n",
       "    </tr>\n",
       "    <tr>\n",
       "      <th>max</th>\n",
       "      <td>1.000000</td>\n",
       "      <td>1.000000</td>\n",
       "      <td>1.000000</td>\n",
       "      <td>1.000000</td>\n",
       "      <td>3.000000</td>\n",
       "      <td>3.000000</td>\n",
       "      <td>98.670000</td>\n",
       "      <td>1.000000</td>\n",
       "    </tr>\n",
       "  </tbody>\n",
       "</table>\n",
       "</div>"
      ],
      "text/plain": [
       "           gender         age  personal_computer  ubisoft_account       games  \\\n",
       "count  512.000000  512.000000         512.000000       512.000000  512.000000   \n",
       "mean     0.464844    0.474609           0.458984         0.476562    1.500000   \n",
       "std      0.499250    0.499843           0.498802         0.499939    1.101502   \n",
       "min      0.000000    0.000000           0.000000         0.000000    0.000000   \n",
       "25%      0.000000    0.000000           0.000000         0.000000    1.000000   \n",
       "50%      0.000000    0.000000           0.000000         0.000000    1.000000   \n",
       "75%      1.000000    1.000000           1.000000         1.000000    2.000000   \n",
       "max      1.000000    1.000000           1.000000         1.000000    3.000000   \n",
       "\n",
       "           origin  income_for_the_platform  platform_feedback  \n",
       "count  512.000000               512.000000         512.000000  \n",
       "mean     1.501953                49.380098           0.501914  \n",
       "std      1.096158                27.532810           0.285897  \n",
       "min      0.000000                 1.650000           0.000000  \n",
       "25%      1.000000                26.027500           0.250000  \n",
       "50%      1.000000                49.275000           0.510000  \n",
       "75%      2.000000                72.852500           0.750000  \n",
       "max      3.000000                98.670000           1.000000  "
      ]
     },
     "metadata": {},
     "execution_count": 113
    }
   ],
   "metadata": {}
  },
  {
   "cell_type": "code",
   "execution_count": 114,
   "source": [
    "corr = df.corr()\r\n",
    "sns.heatmap(corr, cmap=\"YlGnBu\")"
   ],
   "outputs": [
    {
     "output_type": "execute_result",
     "data": {
      "text/plain": [
       "<AxesSubplot:>"
      ]
     },
     "metadata": {},
     "execution_count": 114
    },
    {
     "output_type": "display_data",
     "data": {
      "image/png": "[encoded data removed]",
      "text/plain": [
       "<Figure size 432x288 with 2 Axes>"
      ]
     },
     "metadata": {
      "needs_background": "light"
     }
    }
   ],
   "metadata": {}
  },
  {
   "cell_type": "code",
   "execution_count": 115,
   "source": [
    "columns=df.columns\r\n",
    "columns=columns[:7]\r\n",
    "X=df[['gender', 'age', 'personal_computer', 'ubisoft_account', 'games', 'income_for_the_platform', 'platform_feedback']]\r\n",
    "\r\n",
    "y=df[['origin']]\r\n",
    "\r\n",
    "X_train,X_test,y_train,y_test = train_test_split(X,y,test_size=0.3)\r\n",
    "\r\n",
    "lr = LinearRegression()\r\n",
    "\r\n",
    "lr.fit(X_train,y_train)"
   ],
   "outputs": [
    {
     "output_type": "execute_result",
     "data": {
      "text/plain": [
       "LinearRegression()"
      ]
     },
     "metadata": {},
     "execution_count": 115
    }
   ],
   "metadata": {}
  },
  {
   "cell_type": "code",
   "execution_count": 116,
   "source": [
    "y_Hat = lr.predict(X_test)\r\n",
    "\r\n",
    "mean_absolute_error(y_test, y_Hat)"
   ],
   "outputs": [
    {
     "output_type": "execute_result",
     "data": {
      "text/plain": [
       "0.9195695850293808"
      ]
     },
     "metadata": {},
     "execution_count": 116
    }
   ],
   "metadata": {}
  },
  {
   "cell_type": "code",
   "execution_count": 117,
   "source": [
    "mean_squared_error(y_test, y_Hat)"
   ],
   "outputs": [
    {
     "output_type": "execute_result",
     "data": {
      "text/plain": [
       "1.158943611350856"
      ]
     },
     "metadata": {},
     "execution_count": 117
    }
   ],
   "metadata": {}
  },
  {
   "cell_type": "code",
   "execution_count": 118,
   "source": [
    "res = pd.DataFrame(y_test)\r\n",
    "res['origin_predicted'] = y_Hat\r\n",
    "\r\n",
    "res.head()"
   ],
   "outputs": [
    {
     "output_type": "execute_result",
     "data": {
      "text/html": [
       "<div>\n",
       "<style scoped>\n",
       "    .dataframe tbody tr th:only-of-type {\n",
       "        vertical-align: middle;\n",
       "    }\n",
       "\n",
       "    .dataframe tbody tr th {\n",
       "        vertical-align: top;\n",
       "    }\n",
       "\n",
       "    .dataframe thead th {\n",
       "        text-align: right;\n",
       "    }\n",
       "</style>\n",
       "<table border=\"1\" class=\"dataframe\">\n",
       "  <thead>\n",
       "    <tr style=\"text-align: right;\">\n",
       "      <th></th>\n",
       "      <th>origin</th>\n",
       "      <th>origin_predicted</th>\n",
       "    </tr>\n",
       "  </thead>\n",
       "  <tbody>\n",
       "    <tr>\n",
       "      <th>1</th>\n",
       "      <td>3</td>\n",
       "      <td>1.524935</td>\n",
       "    </tr>\n",
       "    <tr>\n",
       "      <th>87</th>\n",
       "      <td>3</td>\n",
       "      <td>1.447754</td>\n",
       "    </tr>\n",
       "    <tr>\n",
       "      <th>510</th>\n",
       "      <td>1</td>\n",
       "      <td>1.323369</td>\n",
       "    </tr>\n",
       "    <tr>\n",
       "      <th>110</th>\n",
       "      <td>3</td>\n",
       "      <td>1.677606</td>\n",
       "    </tr>\n",
       "    <tr>\n",
       "      <th>35</th>\n",
       "      <td>0</td>\n",
       "      <td>1.061222</td>\n",
       "    </tr>\n",
       "  </tbody>\n",
       "</table>\n",
       "</div>"
      ],
      "text/plain": [
       "     origin  origin_predicted\n",
       "1         3          1.524935\n",
       "87        3          1.447754\n",
       "510       1          1.323369\n",
       "110       3          1.677606\n",
       "35        0          1.061222"
      ]
     },
     "metadata": {},
     "execution_count": 118
    }
   ],
   "metadata": {}
  },
  {
   "cell_type": "code",
   "execution_count": 119,
   "source": [
    "plt.scatter(res['origin'],res['origin_predicted'])"
   ],
   "outputs": [
    {
     "output_type": "execute_result",
     "data": {
      "text/plain": [
       "<matplotlib.collections.PathCollection at 0x27b4ef61520>"
      ]
     },
     "metadata": {},
     "execution_count": 119
    },
    {
     "output_type": "display_data",
     "data": {
      "image/png": "[encoded data removed]",
      "text/plain": [
       "<Figure size 432x288 with 1 Axes>"
      ]
     },
     "metadata": {
      "needs_background": "light"
     }
    }
   ],
   "metadata": {}
  }
 ],
 "metadata": {
  "orig_nbformat": 4,
  "language_info": {
   "name": "python",
   "version": "3.8.8",
   "mimetype": "text/x-python",
   "codemirror_mode": {
    "name": "ipython",
    "version": 3
   },
   "pygments_lexer": "ipython3",
   "nbconvert_exporter": "python",
   "file_extension": ".py"
  },
  "kernelspec": {
   "name": "python3",
   "display_name": "Python 3.8.8 64-bit ('base': conda)"
  },
  "interpreter": {
   "hash": "75cd0ae9ecbec3ab72299e27db8b610059db44a2f7a4c5d8b808971e07cf7af1"
  }
 },
 "nbformat": 4,
 "nbformat_minor": 2
}