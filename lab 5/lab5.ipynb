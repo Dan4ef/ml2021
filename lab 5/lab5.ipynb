{
 "cells": [
  {
   "cell_type": "markdown",
   "metadata": {},
   "source": [
    "# Лабораторна робота 5\n",
    "### Студента групи МІТ-31 (підгрупа 1)\n",
    "### Байди Данила Андрійовича\n",
    "## Завдання\n",
    "1. Виконати вирішення задач регресії та класифікації для наборів даних, що використовувалися в лабораторних роботах 2,3 з використанням Tensorflow & NN\n",
    "2. Отримані результати викласти на github у репозиторій ml2021 в основну (default) гілку в папці Lab5."
   ]
  },
  {
   "cell_type": "code",
   "execution_count": 1,
   "metadata": {},
   "outputs": [],
   "source": [
    "import tensorflow as tf\n",
    "import matplotlib.pyplot as plt\n",
    "import numpy as np\n",
    "import pandas as pd\n",
    "from tensorflow.keras.optimizers import SGD, Adam\n",
    "from tensorflow.keras.losses import mae, mse"
   ]
  },
  {
   "cell_type": "code",
   "execution_count": 41,
   "metadata": {},
   "outputs": [],
   "source": [
    "model = pd.read_csv(\"./drinking_water_potability.csv\")"
   ]
  },
  {
   "cell_type": "code",
   "execution_count": 43,
   "metadata": {},
   "outputs": [
    {
     "data": {
      "text/html": [
       "<div>\n",
       "<style scoped>\n",
       "    .dataframe tbody tr th:only-of-type {\n",
       "        vertical-align: middle;\n",
       "    }\n",
       "\n",
       "    .dataframe tbody tr th {\n",
       "        vertical-align: top;\n",
       "    }\n",
       "\n",
       "    .dataframe thead th {\n",
       "        text-align: right;\n",
       "    }\n",
       "</style>\n",
       "<table border=\"1\" class=\"dataframe\">\n",
       "  <thead>\n",
       "    <tr style=\"text-align: right;\">\n",
       "      <th></th>\n",
       "      <th>ph</th>\n",
       "      <th>Hardness</th>\n",
       "      <th>Solids</th>\n",
       "      <th>Chloramines</th>\n",
       "      <th>Sulfate</th>\n",
       "      <th>Conductivity</th>\n",
       "      <th>Organic_carbon</th>\n",
       "      <th>Trihalomethanes</th>\n",
       "      <th>Turbidity</th>\n",
       "      <th>Potability</th>\n",
       "    </tr>\n",
       "  </thead>\n",
       "  <tbody>\n",
       "    <tr>\n",
       "      <th>0</th>\n",
       "      <td>0</td>\n",
       "      <td>204</td>\n",
       "      <td>20791</td>\n",
       "      <td>7</td>\n",
       "      <td>368</td>\n",
       "      <td>564</td>\n",
       "      <td>10</td>\n",
       "      <td>86</td>\n",
       "      <td>2</td>\n",
       "      <td>0</td>\n",
       "    </tr>\n",
       "    <tr>\n",
       "      <th>1</th>\n",
       "      <td>3</td>\n",
       "      <td>129</td>\n",
       "      <td>18630</td>\n",
       "      <td>6</td>\n",
       "      <td>0</td>\n",
       "      <td>592</td>\n",
       "      <td>15</td>\n",
       "      <td>56</td>\n",
       "      <td>4</td>\n",
       "      <td>0</td>\n",
       "    </tr>\n",
       "    <tr>\n",
       "      <th>2</th>\n",
       "      <td>8</td>\n",
       "      <td>224</td>\n",
       "      <td>19909</td>\n",
       "      <td>9</td>\n",
       "      <td>0</td>\n",
       "      <td>418</td>\n",
       "      <td>16</td>\n",
       "      <td>66</td>\n",
       "      <td>3</td>\n",
       "      <td>0</td>\n",
       "    </tr>\n",
       "    <tr>\n",
       "      <th>3</th>\n",
       "      <td>8</td>\n",
       "      <td>214</td>\n",
       "      <td>22018</td>\n",
       "      <td>8</td>\n",
       "      <td>356</td>\n",
       "      <td>363</td>\n",
       "      <td>18</td>\n",
       "      <td>100</td>\n",
       "      <td>4</td>\n",
       "      <td>0</td>\n",
       "    </tr>\n",
       "    <tr>\n",
       "      <th>4</th>\n",
       "      <td>9</td>\n",
       "      <td>181</td>\n",
       "      <td>17978</td>\n",
       "      <td>6</td>\n",
       "      <td>310</td>\n",
       "      <td>398</td>\n",
       "      <td>11</td>\n",
       "      <td>31</td>\n",
       "      <td>4</td>\n",
       "      <td>0</td>\n",
       "    </tr>\n",
       "  </tbody>\n",
       "</table>\n",
       "</div>"
      ],
      "text/plain": [
       "   ph  Hardness  Solids  Chloramines  Sulfate  Conductivity  Organic_carbon  \\\n",
       "0   0       204   20791            7      368           564              10   \n",
       "1   3       129   18630            6        0           592              15   \n",
       "2   8       224   19909            9        0           418              16   \n",
       "3   8       214   22018            8      356           363              18   \n",
       "4   9       181   17978            6      310           398              11   \n",
       "\n",
       "   Trihalomethanes  Turbidity  Potability  \n",
       "0               86          2           0  \n",
       "1               56          4           0  \n",
       "2               66          3           0  \n",
       "3              100          4           0  \n",
       "4               31          4           0  "
      ]
     },
     "execution_count": 43,
     "metadata": {},
     "output_type": "execute_result"
    }
   ],
   "source": [
    "insurance = model_1\n",
    "insurance = insurance.replace(np.nan, 0)\n",
    "insurance = insurance.astype({\"ph\": \"int64\"})\n",
    "insurance = insurance.astype({\"Hardness\": \"int64\"})\n",
    "insurance = insurance.astype({\"Solids\": \"int64\"})\n",
    "insurance = insurance.astype({\"Chloramines\": \"int64\"})\n",
    "insurance = insurance.astype({\"Sulfate\": \"int64\"})\n",
    "insurance = insurance.astype({\"Conductivity\": \"int64\"})\n",
    "insurance = insurance.astype({\"Organic_carbon\": \"int64\"})\n",
    "insurance = insurance.astype({\"Trihalomethanes\": \"int64\"})\n",
    "insurance = insurance.astype({\"Turbidity\": \"int64\"})\n",
    "insurance.head()"
   ]
  },
  {
   "cell_type": "code",
   "execution_count": 44,
   "metadata": {},
   "outputs": [
    {
     "data": {
      "text/plain": [
       "ph                 0\n",
       "Hardness           0\n",
       "Solids             0\n",
       "Chloramines        0\n",
       "Sulfate            0\n",
       "Conductivity       0\n",
       "Organic_carbon     0\n",
       "Trihalomethanes    0\n",
       "Turbidity          0\n",
       "Potability         0\n",
       "dtype: int64"
      ]
     },
     "execution_count": 44,
     "metadata": {},
     "output_type": "execute_result"
    }
   ],
   "source": [
    "insurance.isna().sum()"
   ]
  },
  {
   "cell_type": "code",
   "execution_count": 45,
   "metadata": {},
   "outputs": [
    {
     "data": {
      "text/html": [
       "<div>\n",
       "<style scoped>\n",
       "    .dataframe tbody tr th:only-of-type {\n",
       "        vertical-align: middle;\n",
       "    }\n",
       "\n",
       "    .dataframe tbody tr th {\n",
       "        vertical-align: top;\n",
       "    }\n",
       "\n",
       "    .dataframe thead th {\n",
       "        text-align: right;\n",
       "    }\n",
       "</style>\n",
       "<table border=\"1\" class=\"dataframe\">\n",
       "  <thead>\n",
       "    <tr style=\"text-align: right;\">\n",
       "      <th></th>\n",
       "      <th>ph</th>\n",
       "      <th>Hardness</th>\n",
       "      <th>Solids</th>\n",
       "      <th>Chloramines</th>\n",
       "      <th>Sulfate</th>\n",
       "      <th>Conductivity</th>\n",
       "      <th>Organic_carbon</th>\n",
       "      <th>Trihalomethanes</th>\n",
       "      <th>Turbidity</th>\n",
       "      <th>Potability</th>\n",
       "    </tr>\n",
       "  </thead>\n",
       "  <tbody>\n",
       "    <tr>\n",
       "      <th>0</th>\n",
       "      <td>0</td>\n",
       "      <td>204</td>\n",
       "      <td>20791</td>\n",
       "      <td>7</td>\n",
       "      <td>368</td>\n",
       "      <td>564</td>\n",
       "      <td>10</td>\n",
       "      <td>86</td>\n",
       "      <td>2</td>\n",
       "      <td>0</td>\n",
       "    </tr>\n",
       "    <tr>\n",
       "      <th>1</th>\n",
       "      <td>3</td>\n",
       "      <td>129</td>\n",
       "      <td>18630</td>\n",
       "      <td>6</td>\n",
       "      <td>0</td>\n",
       "      <td>592</td>\n",
       "      <td>15</td>\n",
       "      <td>56</td>\n",
       "      <td>4</td>\n",
       "      <td>0</td>\n",
       "    </tr>\n",
       "    <tr>\n",
       "      <th>2</th>\n",
       "      <td>8</td>\n",
       "      <td>224</td>\n",
       "      <td>19909</td>\n",
       "      <td>9</td>\n",
       "      <td>0</td>\n",
       "      <td>418</td>\n",
       "      <td>16</td>\n",
       "      <td>66</td>\n",
       "      <td>3</td>\n",
       "      <td>0</td>\n",
       "    </tr>\n",
       "  </tbody>\n",
       "</table>\n",
       "</div>"
      ],
      "text/plain": [
       "   ph  Hardness  Solids  Chloramines  Sulfate  Conductivity  Organic_carbon  \\\n",
       "0   0       204   20791            7      368           564              10   \n",
       "1   3       129   18630            6        0           592              15   \n",
       "2   8       224   19909            9        0           418              16   \n",
       "\n",
       "   Trihalomethanes  Turbidity  Potability  \n",
       "0               86          2           0  \n",
       "1               56          4           0  \n",
       "2               66          3           0  "
      ]
     },
     "execution_count": 45,
     "metadata": {},
     "output_type": "execute_result"
    }
   ],
   "source": [
    "insurance=pd.get_dummies(insurance)\n",
    "\n",
    "insurance.head(3)"
   ]
  },
  {
   "cell_type": "code",
   "execution_count": 46,
   "metadata": {},
   "outputs": [
    {
     "data": {
      "text/plain": [
       "(   ph  Hardness  Chloramines  Sulfate  Conductivity  Organic_carbon  \\\n",
       " 0   0       204            7      368           564              10   \n",
       " 1   3       129            6        0           592              15   \n",
       " 2   8       224            9        0           418              16   \n",
       " 3   8       214            8      356           363              18   \n",
       " 4   9       181            6      310           398              11   \n",
       " \n",
       "    Trihalomethanes  Turbidity  Potability  \n",
       " 0               86          2           0  \n",
       " 1               56          4           0  \n",
       " 2               66          3           0  \n",
       " 3              100          4           0  \n",
       " 4               31          4           0  ,\n",
       " 0    20791\n",
       " 1    18630\n",
       " 2    19909\n",
       " 3    22018\n",
       " 4    17978\n",
       " Name: Solids, dtype: int64)"
      ]
     },
     "execution_count": 46,
     "metadata": {},
     "output_type": "execute_result"
    }
   ],
   "source": [
    "X=insurance.drop(\"Solids\",axis=1)\n",
    "y=insurance[\"Solids\"]\n",
    "\n",
    "X.head(), y.head()"
   ]
  },
  {
   "cell_type": "code",
   "execution_count": 47,
   "metadata": {},
   "outputs": [
    {
     "data": {
      "text/plain": [
       "(2620, 9)"
      ]
     },
     "execution_count": 47,
     "metadata": {},
     "output_type": "execute_result"
    }
   ],
   "source": [
    "from sklearn.model_selection import train_test_split \n",
    "X_train,X_test,y_train,y_test = train_test_split(X,y,test_size=0.2,random_state=48)\n",
    "\n",
    "\n",
    "tf.random.set_seed=13\n",
    "\n",
    "ins_model = tf.keras.Sequential([ \n",
    "    tf.keras.layers.Dense(10),\n",
    "    tf.keras.layers.Dense(1)\n",
    "])\n",
    "\n",
    "ins_model.compile(\n",
    "    loss='mse',\n",
    "    optimizer=Adam(),\n",
    "    metrics=['mse']\n",
    ")\n",
    "\n",
    "X_train.shape"
   ]
  },
  {
   "cell_type": "code",
   "execution_count": 48,
   "metadata": {},
   "outputs": [
    {
     "name": "stdout",
     "output_type": "stream",
     "text": [
      "Epoch 1/10\n",
      "82/82 [==============================] - 0s 669us/step - loss: 545619904.0000 - mse: 545619904.0000\n",
      "Epoch 2/10\n",
      "82/82 [==============================] - 0s 924us/step - loss: 526494464.0000 - mse: 526494464.0000\n",
      "Epoch 3/10\n",
      "82/82 [==============================] - 0s 814us/step - loss: 497574528.0000 - mse: 497574528.0000\n",
      "Epoch 4/10\n",
      "82/82 [==============================] - 0s 820us/step - loss: 458005024.0000 - mse: 458005024.0000\n",
      "Epoch 5/10\n",
      "82/82 [==============================] - 0s 754us/step - loss: 410455200.0000 - mse: 410455200.0000\n",
      "Epoch 6/10\n",
      "82/82 [==============================] - 0s 742us/step - loss: 358405408.0000 - mse: 358405408.0000\n",
      "Epoch 7/10\n",
      "82/82 [==============================] - 0s 742us/step - loss: 305879104.0000 - mse: 305879104.0000\n",
      "Epoch 8/10\n",
      "82/82 [==============================] - 0s 742us/step - loss: 256060160.0000 - mse: 256060160.0000\n",
      "Epoch 9/10\n",
      "82/82 [==============================] - 0s 876us/step - loss: 211703888.0000 - mse: 211703888.0000\n",
      "Epoch 10/10\n",
      "82/82 [==============================] - 0s 803us/step - loss: 174737536.0000 - mse: 174737536.0000\n"
     ]
    }
   ],
   "source": [
    "ins_history = ins_model.fit(X_train,y_train,epochs=10)"
   ]
  },
  {
   "cell_type": "code",
   "execution_count": 49,
   "metadata": {},
   "outputs": [
    {
     "name": "stdout",
     "output_type": "stream",
     "text": [
      "21/21 [==============================] - 0s 570us/step - loss: 87942560.0000 - mse: 87942560.0000\n"
     ]
    }
   ],
   "source": [
    "ins_history2 = ins_model.fit(X_train,y_train,epochs=200, verbose=0)\n",
    "\n",
    "score1=ins_model.evaluate(X_test,y_test)"
   ]
  },
  {
   "cell_type": "code",
   "execution_count": 50,
   "metadata": {},
   "outputs": [
    {
     "data": {
      "text/html": [
       "<div>\n",
       "<style scoped>\n",
       "    .dataframe tbody tr th:only-of-type {\n",
       "        vertical-align: middle;\n",
       "    }\n",
       "\n",
       "    .dataframe tbody tr th {\n",
       "        vertical-align: top;\n",
       "    }\n",
       "\n",
       "    .dataframe thead th {\n",
       "        text-align: right;\n",
       "    }\n",
       "</style>\n",
       "<table border=\"1\" class=\"dataframe\">\n",
       "  <thead>\n",
       "    <tr style=\"text-align: right;\">\n",
       "      <th></th>\n",
       "      <th>ph</th>\n",
       "      <th>Hardness</th>\n",
       "      <th>Chloramines</th>\n",
       "      <th>Sulfate</th>\n",
       "      <th>Conductivity</th>\n",
       "      <th>Organic_carbon</th>\n",
       "      <th>Trihalomethanes</th>\n",
       "      <th>Turbidity</th>\n",
       "      <th>Potability</th>\n",
       "    </tr>\n",
       "  </thead>\n",
       "  <tbody>\n",
       "    <tr>\n",
       "      <th>263</th>\n",
       "      <td>13</td>\n",
       "      <td>47</td>\n",
       "      <td>8</td>\n",
       "      <td>375</td>\n",
       "      <td>500</td>\n",
       "      <td>12</td>\n",
       "      <td>0</td>\n",
       "      <td>4</td>\n",
       "      <td>1</td>\n",
       "    </tr>\n",
       "    <tr>\n",
       "      <th>1683</th>\n",
       "      <td>8</td>\n",
       "      <td>239</td>\n",
       "      <td>5</td>\n",
       "      <td>0</td>\n",
       "      <td>574</td>\n",
       "      <td>17</td>\n",
       "      <td>56</td>\n",
       "      <td>3</td>\n",
       "      <td>0</td>\n",
       "    </tr>\n",
       "    <tr>\n",
       "      <th>1880</th>\n",
       "      <td>0</td>\n",
       "      <td>187</td>\n",
       "      <td>7</td>\n",
       "      <td>0</td>\n",
       "      <td>507</td>\n",
       "      <td>18</td>\n",
       "      <td>79</td>\n",
       "      <td>5</td>\n",
       "      <td>0</td>\n",
       "    </tr>\n",
       "    <tr>\n",
       "      <th>621</th>\n",
       "      <td>0</td>\n",
       "      <td>193</td>\n",
       "      <td>6</td>\n",
       "      <td>342</td>\n",
       "      <td>430</td>\n",
       "      <td>17</td>\n",
       "      <td>49</td>\n",
       "      <td>2</td>\n",
       "      <td>0</td>\n",
       "    </tr>\n",
       "    <tr>\n",
       "      <th>2347</th>\n",
       "      <td>5</td>\n",
       "      <td>183</td>\n",
       "      <td>5</td>\n",
       "      <td>394</td>\n",
       "      <td>446</td>\n",
       "      <td>17</td>\n",
       "      <td>50</td>\n",
       "      <td>3</td>\n",
       "      <td>1</td>\n",
       "    </tr>\n",
       "  </tbody>\n",
       "</table>\n",
       "</div>"
      ],
      "text/plain": [
       "      ph  Hardness  Chloramines  Sulfate  Conductivity  Organic_carbon  \\\n",
       "263   13        47            8      375           500              12   \n",
       "1683   8       239            5        0           574              17   \n",
       "1880   0       187            7        0           507              18   \n",
       "621    0       193            6      342           430              17   \n",
       "2347   5       183            5      394           446              17   \n",
       "\n",
       "      Trihalomethanes  Turbidity  Potability  \n",
       "263                 0          4           1  \n",
       "1683               56          3           0  \n",
       "1880               79          5           0  \n",
       "621                49          2           0  \n",
       "2347               50          3           1  "
      ]
     },
     "execution_count": 50,
     "metadata": {},
     "output_type": "execute_result"
    }
   ],
   "source": [
    "ins_model.save(\"i_mod.h5\")\n",
    "\n",
    "ins_model_loaded=tf.keras.models.load_model(\"i_mod.h5\")\n",
    "\n",
    "\n",
    "y1=ins_model.predict(X_test)\n",
    "y2=ins_model_loaded.predict(X_test)\n",
    "\n",
    "(y1-y2).sum()\n",
    "\n",
    "X_train.head()"
   ]
  },
  {
   "cell_type": "code",
   "execution_count": 51,
   "metadata": {},
   "outputs": [
    {
     "data": {
      "text/html": [
       "<div>\n",
       "<style scoped>\n",
       "    .dataframe tbody tr th:only-of-type {\n",
       "        vertical-align: middle;\n",
       "    }\n",
       "\n",
       "    .dataframe tbody tr th {\n",
       "        vertical-align: top;\n",
       "    }\n",
       "\n",
       "    .dataframe thead th {\n",
       "        text-align: right;\n",
       "    }\n",
       "</style>\n",
       "<table border=\"1\" class=\"dataframe\">\n",
       "  <thead>\n",
       "    <tr style=\"text-align: right;\">\n",
       "      <th></th>\n",
       "      <th>ph</th>\n",
       "      <th>Hardness</th>\n",
       "      <th>Solids</th>\n",
       "      <th>Chloramines</th>\n",
       "      <th>Sulfate</th>\n",
       "      <th>Conductivity</th>\n",
       "      <th>Organic_carbon</th>\n",
       "      <th>Trihalomethanes</th>\n",
       "      <th>Turbidity</th>\n",
       "      <th>Potability</th>\n",
       "    </tr>\n",
       "  </thead>\n",
       "  <tbody>\n",
       "    <tr>\n",
       "      <th>0</th>\n",
       "      <td>0</td>\n",
       "      <td>204</td>\n",
       "      <td>20791</td>\n",
       "      <td>7</td>\n",
       "      <td>368</td>\n",
       "      <td>564</td>\n",
       "      <td>10</td>\n",
       "      <td>86</td>\n",
       "      <td>2</td>\n",
       "      <td>0</td>\n",
       "    </tr>\n",
       "    <tr>\n",
       "      <th>1</th>\n",
       "      <td>3</td>\n",
       "      <td>129</td>\n",
       "      <td>18630</td>\n",
       "      <td>6</td>\n",
       "      <td>0</td>\n",
       "      <td>592</td>\n",
       "      <td>15</td>\n",
       "      <td>56</td>\n",
       "      <td>4</td>\n",
       "      <td>0</td>\n",
       "    </tr>\n",
       "  </tbody>\n",
       "</table>\n",
       "</div>"
      ],
      "text/plain": [
       "   ph  Hardness  Solids  Chloramines  Sulfate  Conductivity  Organic_carbon  \\\n",
       "0   0       204   20791            7      368           564              10   \n",
       "1   3       129   18630            6        0           592              15   \n",
       "\n",
       "   Trihalomethanes  Turbidity  Potability  \n",
       "0               86          2           0  \n",
       "1               56          4           0  "
      ]
     },
     "execution_count": 51,
     "metadata": {},
     "output_type": "execute_result"
    }
   ],
   "source": [
    "from sklearn.compose import make_column_transformer\n",
    "from sklearn.preprocessing import MinMaxScaler, OneHotEncoder\n",
    "\n",
    "insurance2 = model_1\n",
    "insurance2 = insurance2.replace(np.nan, 0)\n",
    "insurance2 = insurance2.astype({\"ph\": \"int64\"})\n",
    "insurance2 = insurance2.astype({\"Hardness\": \"int64\"})\n",
    "insurance2 = insurance2.astype({\"Solids\": \"int64\"})\n",
    "insurance2 = insurance2.astype({\"Chloramines\": \"int64\"})\n",
    "insurance2 = insurance2.astype({\"Sulfate\": \"int64\"})\n",
    "insurance2 = insurance2.astype({\"Conductivity\": \"int64\"})\n",
    "insurance2 = insurance2.astype({\"Organic_carbon\": \"int64\"})\n",
    "insurance2 = insurance2.astype({\"Trihalomethanes\": \"int64\"})\n",
    "insurance2 = insurance2.astype({\"Turbidity\": \"int64\"})\n",
    "insurance2.head(2)"
   ]
  },
  {
   "cell_type": "code",
   "execution_count": 52,
   "metadata": {},
   "outputs": [],
   "source": [
    "ct = make_column_transformer(\n",
    "    (MinMaxScaler(),[\"Chloramines\", \"Sulfate\", \"Conductivity\", \"Organic_carbon\", \"Trihalomethanes\"]), \n",
    "    (OneHotEncoder(handle_unknown=\"ignore\"),['Turbidity','Potability'])\n",
    ")\n",
    "X=insurance2.drop(\"Solids\", axis=1)\n",
    "y = insurance2[\"Solids\"]\n",
    "\n",
    "X_train,X_test,y_train,y_test = train_test_split(X,y,test_size=0.2)\n",
    "\n",
    "ct.fit(X_train)\n",
    "\n",
    "X_train_norm = ct.transform(X_train)\n",
    "X_test_norm = ct.transform(X_test)\n",
    "\n",
    "im3= tf.keras.Sequential([ \n",
    "    \n",
    "    tf.keras.layers.Dense(100),\n",
    "    tf.keras.layers.Dense(10),\n",
    "    tf.keras.layers.Dense(1)\n",
    "])"
   ]
  },
  {
   "cell_type": "code",
   "execution_count": 53,
   "metadata": {},
   "outputs": [
    {
     "name": "stdout",
     "output_type": "stream",
     "text": [
      "21/21 [==============================] - 0s 713us/step - loss: 7153.3193 - mae: 7153.3193\n"
     ]
    },
    {
     "data": {
      "text/plain": [
       "(2620, 9)"
      ]
     },
     "execution_count": 53,
     "metadata": {},
     "output_type": "execute_result"
    }
   ],
   "source": [
    "im3.compile(\n",
    "    loss=mae, \n",
    "    optimizer=tf.keras.optimizers.Adam(), \n",
    "    metrics=[\"mae\"]\n",
    ")\n",
    "history_im3=im3.fit(X_train_norm,y_train,validation_split=0.3,epochs=30,verbose=0)\n",
    "\n",
    "im3.evaluate(X_test_norm,y_test)\n",
    "\n",
    "X_train.shape"
   ]
  },
  {
   "cell_type": "code",
   "execution_count": 54,
   "metadata": {},
   "outputs": [
    {
     "data": {
      "image/png": "[encoded data removed]",
      "text/plain": [
       "<Figure size 432x288 with 1 Axes>"
      ]
     },
     "metadata": {
      "needs_background": "light"
     },
     "output_type": "display_data"
    }
   ],
   "source": [
    "plt.plot(history_im3.history['loss'])\n",
    "plt.plot(history_im3.history['val_loss'])\n",
    "plt.title('model loss')\n",
    "plt.ylabel('loss')\n",
    "plt.xlabel('epoch')\n",
    "plt.legend(['loss', 'val_loss'], loc='upper right')\n",
    "plt.show()"
   ]
  },
  {
   "cell_type": "code",
   "execution_count": 55,
   "metadata": {},
   "outputs": [],
   "source": [
    "import matplotlib as plt\n",
    "import sklearn.model_selection\n",
    "import sklearn.datasets\n",
    "import seaborn as sns"
   ]
  },
  {
   "cell_type": "code",
   "execution_count": 56,
   "metadata": {},
   "outputs": [
    {
     "name": "stdout",
     "output_type": "stream",
     "text": [
      "Downloading data from https://storage.googleapis.com/tensorflow/tf-keras-datasets/train-labels-idx1-ubyte.gz\n",
      "32768/29515 [=================================] - 0s 1us/step\n",
      "Downloading data from https://storage.googleapis.com/tensorflow/tf-keras-datasets/train-images-idx3-ubyte.gz\n",
      "26427392/26421880 [==============================] - 3s 0us/step\n",
      "Downloading data from https://storage.googleapis.com/tensorflow/tf-keras-datasets/t10k-labels-idx1-ubyte.gz\n",
      "8192/5148 [===============================================] - 0s 0us/step\n",
      "Downloading data from https://storage.googleapis.com/tensorflow/tf-keras-datasets/t10k-images-idx3-ubyte.gz\n",
      "4423680/4422102 [==============================] - 1s 0us/step\n"
     ]
    }
   ],
   "source": [
    "from tensorflow.keras.datasets import fashion_mnist\n",
    "\n",
    "(train_data, train_labels), (test_data, test_labels) = fashion_mnist.load_data()"
   ]
  },
  {
   "cell_type": "code",
   "execution_count": 57,
   "metadata": {},
   "outputs": [
    {
     "name": "stdout",
     "output_type": "stream",
     "text": [
      "Training sample:\n",
      "[[  0   0   0   0   0   0   0   0   0   0   0   0   0   0   0   0   0   0\n",
      "    0   0   0   0   0   0   0   0   0   0]\n",
      " [  0   0   0   0   0   0   0   0   0   0   0   0   0   0   0   0   0   0\n",
      "    0   0   0   0   0   0   0   0   0   0]\n",
      " [  0   0   0   0   0   0   0   0   0   0   0   0   0   0   0   0   0   0\n",
      "    0   0   0   0   0   0   0   0   0   0]\n",
      " [  0   0   0   0   0   0   0   0   0   0   0   0   1   0   0  13  73   0\n",
      "    0   1   4   0   0   0   0   1   1   0]\n",
      " [  0   0   0   0   0   0   0   0   0   0   0   0   3   0  36 136 127  62\n",
      "   54   0   0   0   1   3   4   0   0   3]\n",
      " [  0   0   0   0   0   0   0   0   0   0   0   0   6   0 102 204 176 134\n",
      "  144 123  23   0   0   0   0  12  10   0]\n",
      " [  0   0   0   0   0   0   0   0   0   0   0   0   0   0 155 236 207 178\n",
      "  107 156 161 109  64  23  77 130  72  15]\n",
      " [  0   0   0   0   0   0   0   0   0   0   0   1   0  69 207 223 218 216\n",
      "  216 163 127 121 122 146 141  88 172  66]\n",
      " [  0   0   0   0   0   0   0   0   0   1   1   1   0 200 232 232 233 229\n",
      "  223 223 215 213 164 127 123 196 229   0]\n",
      " [  0   0   0   0   0   0   0   0   0   0   0   0   0 183 225 216 223 228\n",
      "  235 227 224 222 224 221 223 245 173   0]\n",
      " [  0   0   0   0   0   0   0   0   0   0   0   0   0 193 228 218 213 198\n",
      "  180 212 210 211 213 223 220 243 202   0]\n",
      " [  0   0   0   0   0   0   0   0   0   1   3   0  12 219 220 212 218 192\n",
      "  169 227 208 218 224 212 226 197 209  52]\n",
      " [  0   0   0   0   0   0   0   0   0   0   6   0  99 244 222 220 218 203\n",
      "  198 221 215 213 222 220 245 119 167  56]\n",
      " [  0   0   0   0   0   0   0   0   0   4   0   0  55 236 228 230 228 240\n",
      "  232 213 218 223 234 217 217 209  92   0]\n",
      " [  0   0   1   4   6   7   2   0   0   0   0   0 237 226 217 223 222 219\n",
      "  222 221 216 223 229 215 218 255  77   0]\n",
      " [  0   3   0   0   0   0   0   0   0  62 145 204 228 207 213 221 218 208\n",
      "  211 218 224 223 219 215 224 244 159   0]\n",
      " [  0   0   0   0  18  44  82 107 189 228 220 222 217 226 200 205 211 230\n",
      "  224 234 176 188 250 248 233 238 215   0]\n",
      " [  0  57 187 208 224 221 224 208 204 214 208 209 200 159 245 193 206 223\n",
      "  255 255 221 234 221 211 220 232 246   0]\n",
      " [  3 202 228 224 221 211 211 214 205 205 205 220 240  80 150 255 229 221\n",
      "  188 154 191 210 204 209 222 228 225   0]\n",
      " [ 98 233 198 210 222 229 229 234 249 220 194 215 217 241  65  73 106 117\n",
      "  168 219 221 215 217 223 223 224 229  29]\n",
      " [ 75 204 212 204 193 205 211 225 216 185 197 206 198 213 240 195 227 245\n",
      "  239 223 218 212 209 222 220 221 230  67]\n",
      " [ 48 203 183 194 213 197 185 190 194 192 202 214 219 221 220 236 225 216\n",
      "  199 206 186 181 177 172 181 205 206 115]\n",
      " [  0 122 219 193 179 171 183 196 204 210 213 207 211 210 200 196 194 191\n",
      "  195 191 198 192 176 156 167 177 210  92]\n",
      " [  0   0  74 189 212 191 175 172 175 181 185 188 189 188 193 198 204 209\n",
      "  210 210 211 188 188 194 192 216 170   0]\n",
      " [  2   0   0   0  66 200 222 237 239 242 246 243 244 221 220 193 191 179\n",
      "  182 182 181 176 166 168  99  58   0   0]\n",
      " [  0   0   0   0   0   0   0  40  61  44  72  41  35   0   0   0   0   0\n",
      "    0   0   0   0   0   0   0   0   0   0]\n",
      " [  0   0   0   0   0   0   0   0   0   0   0   0   0   0   0   0   0   0\n",
      "    0   0   0   0   0   0   0   0   0   0]\n",
      " [  0   0   0   0   0   0   0   0   0   0   0   0   0   0   0   0   0   0\n",
      "    0   0   0   0   0   0   0   0   0   0]]\n",
      "\n",
      "Training label: 9\n"
     ]
    }
   ],
   "source": [
    "print(f\"Training sample:\\n{train_data[0]}\\n\") \n",
    "print(f\"Training label: {train_labels[0]}\")"
   ]
  },
  {
   "cell_type": "code",
   "execution_count": 58,
   "metadata": {},
   "outputs": [
    {
     "data": {
      "text/plain": [
       "((60000, 28, 28), (60000,), (10000, 28, 28), (10000,))"
      ]
     },
     "execution_count": 58,
     "metadata": {},
     "output_type": "execute_result"
    }
   ],
   "source": [
    "train_data.shape, train_labels.shape, test_data.shape, test_labels.shape"
   ]
  },
  {
   "cell_type": "code",
   "execution_count": 59,
   "metadata": {},
   "outputs": [
    {
     "data": {
      "text/plain": [
       "((28, 28), ())"
      ]
     },
     "execution_count": 59,
     "metadata": {},
     "output_type": "execute_result"
    }
   ],
   "source": [
    "train_data[0].shape, train_labels[0].shape"
   ]
  },
  {
   "cell_type": "code",
   "execution_count": 60,
   "metadata": {},
   "outputs": [
    {
     "data": {
      "text/plain": [
       "2"
      ]
     },
     "execution_count": 60,
     "metadata": {},
     "output_type": "execute_result"
    }
   ],
   "source": [
    "train_labels[7]"
   ]
  },
  {
   "cell_type": "code",
   "execution_count": 61,
   "metadata": {},
   "outputs": [
    {
     "data": {
      "text/plain": [
       "10"
      ]
     },
     "execution_count": 61,
     "metadata": {},
     "output_type": "execute_result"
    }
   ],
   "source": [
    "class_names = ['T-shirt/top', 'Trouser', 'Pullover', 'Dress', 'Coat', \n",
    "               'Sandal', 'Shirt', 'Sneaker', 'Bag', 'Ankle boot']\n",
    "len(class_names)"
   ]
  },
  {
   "cell_type": "code",
   "execution_count": 62,
   "metadata": {},
   "outputs": [
    {
     "name": "stdout",
     "output_type": "stream",
     "text": [
      "Epoch 1/10\n",
      "1875/1875 [==============================] - 2s 1ms/step - loss: 2.3435 - accuracy: 0.1112 - val_loss: 2.1740 - val_accuracy: 0.1685\n",
      "Epoch 2/10\n",
      "1875/1875 [==============================] - 2s 1ms/step - loss: 1.8309 - accuracy: 0.2709 - val_loss: 1.4544 - val_accuracy: 0.3859\n",
      "Epoch 3/10\n",
      "1875/1875 [==============================] - 2s 1ms/step - loss: 1.3292 - accuracy: 0.4112 - val_loss: 1.2751 - val_accuracy: 0.4219\n",
      "Epoch 4/10\n",
      "1875/1875 [==============================] - 2s 1ms/step - loss: 1.2133 - accuracy: 0.4613 - val_loss: 1.1709 - val_accuracy: 0.5071\n",
      "Epoch 5/10\n",
      "1875/1875 [==============================] - 2s 1ms/step - loss: 1.1437 - accuracy: 0.4993 - val_loss: 1.1330 - val_accuracy: 0.5234\n",
      "Epoch 6/10\n",
      "1875/1875 [==============================] - 2s 1ms/step - loss: 1.1087 - accuracy: 0.5234 - val_loss: 1.1105 - val_accuracy: 0.5450\n",
      "Epoch 7/10\n",
      "1875/1875 [==============================] - 2s 1ms/step - loss: 1.0856 - accuracy: 0.5326 - val_loss: 1.0955 - val_accuracy: 0.5470\n",
      "Epoch 8/10\n",
      "1875/1875 [==============================] - 2s 1ms/step - loss: 1.0789 - accuracy: 0.5393 - val_loss: 1.0783 - val_accuracy: 0.5367\n",
      "Epoch 9/10\n",
      "1875/1875 [==============================] - 2s 1ms/step - loss: 1.0658 - accuracy: 0.5390 - val_loss: 1.0717 - val_accuracy: 0.5467\n",
      "Epoch 10/10\n",
      "1875/1875 [==============================] - 2s 1ms/step - loss: 1.0612 - accuracy: 0.5433 - val_loss: 1.0732 - val_accuracy: 0.5543\n"
     ]
    }
   ],
   "source": [
    "model_11 = tf.keras.Sequential([\n",
    "  tf.keras.layers.Flatten(input_shape=(28, 28)),\n",
    "  tf.keras.layers.Dense(4, activation=\"relu\"),\n",
    "  tf.keras.layers.Dense(4, activation=\"relu\"),\n",
    "  tf.keras.layers.Dense(10, activation=\"softmax\")\n",
    "])\n",
    "\n",
    "# Compile the model\n",
    "model_11.compile(loss=tf.keras.losses.SparseCategoricalCrossentropy(),\n",
    "                 optimizer=tf.keras.optimizers.Adam(),\n",
    "                 metrics=[\"accuracy\"])\n",
    "\n",
    "# Fit the model\n",
    "non_norm_history = model_11.fit(train_data,\n",
    "                                train_labels,\n",
    "                                epochs=10,\n",
    "                                validation_data=(test_data, test_labels))"
   ]
  },
  {
   "cell_type": "code",
   "execution_count": 63,
   "metadata": {},
   "outputs": [
    {
     "data": {
      "text/plain": [
       "(0.0, 1.0)"
      ]
     },
     "execution_count": 63,
     "metadata": {},
     "output_type": "execute_result"
    }
   ],
   "source": [
    "train_data.min(), train_data.max()\n",
    "\n",
    "# Divide train and test images by the maximum value (normalize it)\n",
    "train_data = train_data / 255.0\n",
    "test_data = test_data / 255.0\n",
    "\n",
    "# Check the min and max values of the training data\n",
    "train_data.min(), train_data.max()"
   ]
  },
  {
   "cell_type": "code",
   "execution_count": 64,
   "metadata": {},
   "outputs": [
    {
     "name": "stdout",
     "output_type": "stream",
     "text": [
      "Epoch 1/10\n",
      "1875/1875 [==============================] - 2s 1ms/step - loss: 1.0356 - accuracy: 0.6072 - val_loss: 0.8064 - val_accuracy: 0.6999\n",
      "Epoch 2/10\n",
      "1875/1875 [==============================] - 2s 1ms/step - loss: 0.7003 - accuracy: 0.7554 - val_loss: 0.6837 - val_accuracy: 0.7743\n",
      "Epoch 3/10\n",
      "1875/1875 [==============================] - 2s 1ms/step - loss: 0.6300 - accuracy: 0.7885 - val_loss: 0.6353 - val_accuracy: 0.7889\n",
      "Epoch 4/10\n",
      "1875/1875 [==============================] - 2s 1ms/step - loss: 0.5927 - accuracy: 0.8003 - val_loss: 0.6081 - val_accuracy: 0.7953\n",
      "Epoch 5/10\n",
      "1875/1875 [==============================] - 2s 1ms/step - loss: 0.5719 - accuracy: 0.8060 - val_loss: 0.5858 - val_accuracy: 0.8014\n",
      "Epoch 6/10\n",
      "1875/1875 [==============================] - 2s 1ms/step - loss: 0.5574 - accuracy: 0.8102 - val_loss: 0.5770 - val_accuracy: 0.8042\n",
      "Epoch 7/10\n",
      "1875/1875 [==============================] - 2s 1ms/step - loss: 0.5482 - accuracy: 0.8129 - val_loss: 0.5787 - val_accuracy: 0.8011\n",
      "Epoch 8/10\n",
      "1875/1875 [==============================] - 2s 1ms/step - loss: 0.5394 - accuracy: 0.8155 - val_loss: 0.5818 - val_accuracy: 0.8007\n",
      "Epoch 9/10\n",
      "1875/1875 [==============================] - 2s 1ms/step - loss: 0.5341 - accuracy: 0.8171 - val_loss: 0.5648 - val_accuracy: 0.8077\n",
      "Epoch 10/10\n",
      "1875/1875 [==============================] - 2s 1ms/step - loss: 0.5298 - accuracy: 0.8176 - val_loss: 0.5623 - val_accuracy: 0.8083\n"
     ]
    }
   ],
   "source": [
    "model_12 = tf.keras.Sequential([\n",
    "  tf.keras.layers.Flatten(input_shape=(28, 28)), # input layer (we had to reshape 28x28 to 784)\n",
    "  tf.keras.layers.Dense(4, activation=\"relu\"),\n",
    "  tf.keras.layers.Dense(4, activation=\"relu\"),\n",
    "  tf.keras.layers.Dense(10, activation=\"softmax\") # output shape is 10, activation is softmax\n",
    "])\n",
    "\n",
    "# Compile the model\n",
    "model_12.compile(loss=tf.keras.losses.SparseCategoricalCrossentropy(),\n",
    "                 optimizer=tf.keras.optimizers.Adam(),\n",
    "                 metrics=[\"accuracy\"])\n",
    "\n",
    "# Fit the model (to the normalized data)\n",
    "norm_history = model_12.fit(train_data,\n",
    "                            train_labels,\n",
    "                            epochs=10,\n",
    "                            validation_data=(test_data, test_labels))"
   ]
  },
  {
   "cell_type": "code",
   "execution_count": 65,
   "metadata": {},
   "outputs": [
    {
     "data": {
      "text/plain": [
       "<AxesSubplot:title={'center':'Normalized data'}>"
      ]
     },
     "execution_count": 65,
     "metadata": {},
     "output_type": "execute_result"
    },
    {
     "data": {
      "image/png": "[encoded data removed]",
      "text/plain": [
       "<Figure size 432x288 with 1 Axes>"
      ]
     },
     "metadata": {
      "needs_background": "light"
     },
     "output_type": "display_data"
    },
    {
     "data": {
      "image/png": "[encoded data removed]",
      "text/plain": [
       "<Figure size 432x288 with 1 Axes>"
      ]
     },
     "metadata": {
      "needs_background": "light"
     },
     "output_type": "display_data"
    }
   ],
   "source": [
    "pd.DataFrame(non_norm_history.history).plot(title=\"Non-normalized Data\")\n",
    "pd.DataFrame(norm_history.history).plot(title=\"Normalized data\")"
   ]
  },
  {
   "cell_type": "code",
   "execution_count": 66,
   "metadata": {},
   "outputs": [
    {
     "name": "stdout",
     "output_type": "stream",
     "text": [
      "Epoch 1/40\n",
      "1875/1875 [==============================] - 2s 1ms/step - loss: 1.2051 - accuracy: 0.5516 - val_loss: 0.9143 - val_accuracy: 0.6610\n",
      "Epoch 2/40\n",
      "1875/1875 [==============================] - 2s 1ms/step - loss: 0.8128 - accuracy: 0.7138 - val_loss: 0.7532 - val_accuracy: 0.7324\n",
      "Epoch 3/40\n",
      "1875/1875 [==============================] - 2s 1ms/step - loss: 0.6833 - accuracy: 0.7516 - val_loss: 0.6833 - val_accuracy: 0.7469\n",
      "Epoch 4/40\n",
      "1875/1875 [==============================] - 2s 1ms/step - loss: 0.6405 - accuracy: 0.7655 - val_loss: 0.6547 - val_accuracy: 0.7606\n",
      "Epoch 5/40\n",
      "1875/1875 [==============================] - 2s 1ms/step - loss: 0.6202 - accuracy: 0.7739 - val_loss: 0.6517 - val_accuracy: 0.7659\n",
      "Epoch 6/40\n",
      "1875/1875 [==============================] - 2s 1ms/step - loss: 0.6092 - accuracy: 0.7775 - val_loss: 0.6304 - val_accuracy: 0.7692\n",
      "Epoch 7/40\n",
      "1875/1875 [==============================] - 2s 1ms/step - loss: 0.6007 - accuracy: 0.7799 - val_loss: 0.6298 - val_accuracy: 0.7728\n",
      "Epoch 8/40\n",
      "1875/1875 [==============================] - 2s 1ms/step - loss: 0.5967 - accuracy: 0.7802 - val_loss: 0.6182 - val_accuracy: 0.7753\n",
      "Epoch 9/40\n",
      "1875/1875 [==============================] - 2s 1ms/step - loss: 0.5935 - accuracy: 0.7813 - val_loss: 0.6351 - val_accuracy: 0.7697\n",
      "Epoch 10/40\n",
      "1875/1875 [==============================] - 2s 1ms/step - loss: 0.5917 - accuracy: 0.7818 - val_loss: 0.6126 - val_accuracy: 0.7781\n",
      "Epoch 11/40\n",
      "1875/1875 [==============================] - 2s 1ms/step - loss: 0.5895 - accuracy: 0.7829 - val_loss: 0.6234 - val_accuracy: 0.7805\n",
      "Epoch 12/40\n",
      "1875/1875 [==============================] - 2s 1ms/step - loss: 0.5891 - accuracy: 0.7853 - val_loss: 0.6372 - val_accuracy: 0.7666\n",
      "Epoch 13/40\n",
      "1875/1875 [==============================] - 2s 1ms/step - loss: 0.5849 - accuracy: 0.7917 - val_loss: 0.6042 - val_accuracy: 0.7895\n",
      "Epoch 14/40\n",
      "1875/1875 [==============================] - 2s 1ms/step - loss: 0.5750 - accuracy: 0.7998 - val_loss: 0.6098 - val_accuracy: 0.7909\n",
      "Epoch 15/40\n",
      "1875/1875 [==============================] - 2s 1ms/step - loss: 0.5734 - accuracy: 0.8015 - val_loss: 0.6103 - val_accuracy: 0.7934\n",
      "Epoch 16/40\n",
      "1875/1875 [==============================] - 2s 1ms/step - loss: 0.5736 - accuracy: 0.8016 - val_loss: 0.6056 - val_accuracy: 0.7936\n",
      "Epoch 17/40\n",
      "1875/1875 [==============================] - 2s 1ms/step - loss: 0.5716 - accuracy: 0.8039 - val_loss: 0.5872 - val_accuracy: 0.8005\n",
      "Epoch 18/40\n",
      "1875/1875 [==============================] - 2s 1ms/step - loss: 0.5729 - accuracy: 0.8029 - val_loss: 0.6215 - val_accuracy: 0.7869\n",
      "Epoch 19/40\n",
      "1875/1875 [==============================] - 2s 1ms/step - loss: 0.5766 - accuracy: 0.8013 - val_loss: 0.6631 - val_accuracy: 0.7737\n",
      "Epoch 20/40\n",
      "1875/1875 [==============================] - 2s 1ms/step - loss: 0.5821 - accuracy: 0.7992 - val_loss: 0.5899 - val_accuracy: 0.7971\n",
      "Epoch 21/40\n",
      "1875/1875 [==============================] - 2s 1ms/step - loss: 0.5836 - accuracy: 0.7985 - val_loss: 0.6851 - val_accuracy: 0.7698\n",
      "Epoch 22/40\n",
      "1875/1875 [==============================] - 2s 1ms/step - loss: 0.5928 - accuracy: 0.7961 - val_loss: 0.6094 - val_accuracy: 0.7974\n",
      "Epoch 23/40\n",
      "1875/1875 [==============================] - 2s 1ms/step - loss: 0.5938 - accuracy: 0.7959 - val_loss: 0.6737 - val_accuracy: 0.7721\n",
      "Epoch 24/40\n",
      "1875/1875 [==============================] - 2s 1ms/step - loss: 0.6004 - accuracy: 0.7931 - val_loss: 0.6761 - val_accuracy: 0.7799\n",
      "Epoch 25/40\n",
      "1875/1875 [==============================] - 2s 1ms/step - loss: 0.6121 - accuracy: 0.7886 - val_loss: 0.6588 - val_accuracy: 0.7712\n",
      "Epoch 26/40\n",
      "1875/1875 [==============================] - 2s 1ms/step - loss: 0.6146 - accuracy: 0.7891 - val_loss: 0.7347 - val_accuracy: 0.7373\n",
      "Epoch 27/40\n",
      "1875/1875 [==============================] - 2s 1ms/step - loss: 0.6291 - accuracy: 0.7820 - val_loss: 0.6464 - val_accuracy: 0.7817\n",
      "Epoch 28/40\n",
      "1875/1875 [==============================] - 2s 1ms/step - loss: 0.6580 - accuracy: 0.7703 - val_loss: 0.7577 - val_accuracy: 0.7287\n",
      "Epoch 29/40\n",
      "1875/1875 [==============================] - 2s 1ms/step - loss: 0.6827 - accuracy: 0.7545 - val_loss: 0.6532 - val_accuracy: 0.7793\n",
      "Epoch 30/40\n",
      "1875/1875 [==============================] - 2s 1ms/step - loss: 0.6964 - accuracy: 0.7512 - val_loss: 0.6666 - val_accuracy: 0.7597\n",
      "Epoch 31/40\n",
      "1875/1875 [==============================] - 2s 1ms/step - loss: 0.7165 - accuracy: 0.7437 - val_loss: 0.7688 - val_accuracy: 0.7057\n",
      "Epoch 32/40\n",
      "1875/1875 [==============================] - 2s 1ms/step - loss: 0.7540 - accuracy: 0.7230 - val_loss: 0.7812 - val_accuracy: 0.6696\n",
      "Epoch 33/40\n",
      "1875/1875 [==============================] - 2s 1ms/step - loss: 0.7748 - accuracy: 0.7165 - val_loss: 1.1762 - val_accuracy: 0.6444\n",
      "Epoch 34/40\n",
      "1875/1875 [==============================] - 2s 1ms/step - loss: 0.8376 - accuracy: 0.6863 - val_loss: 0.8572 - val_accuracy: 0.6773\n",
      "Epoch 35/40\n",
      "1875/1875 [==============================] - 2s 1ms/step - loss: 0.9140 - accuracy: 0.6409 - val_loss: 1.1281 - val_accuracy: 0.5821\n",
      "Epoch 36/40\n",
      "1875/1875 [==============================] - 2s 1ms/step - loss: 1.0259 - accuracy: 0.5965 - val_loss: 0.9734 - val_accuracy: 0.5873\n",
      "Epoch 37/40\n",
      "1875/1875 [==============================] - 2s 1ms/step - loss: 1.1212 - accuracy: 0.5526 - val_loss: 1.3457 - val_accuracy: 0.4667\n",
      "Epoch 38/40\n",
      "1875/1875 [==============================] - 2s 1ms/step - loss: 1.3093 - accuracy: 0.4294 - val_loss: 1.4091 - val_accuracy: 0.3620\n",
      "Epoch 39/40\n",
      "1875/1875 [==============================] - 2s 1ms/step - loss: 1.4458 - accuracy: 0.3658 - val_loss: 1.3384 - val_accuracy: 0.4113\n",
      "Epoch 40/40\n",
      "1875/1875 [==============================] - 3s 1ms/step - loss: 1.4237 - accuracy: 0.3853 - val_loss: 1.4207 - val_accuracy: 0.3969\n"
     ]
    }
   ],
   "source": [
    "model_13 = tf.keras.Sequential([\n",
    "  tf.keras.layers.Flatten(input_shape=(28, 28)), # input layer (we had to reshape 28x28 to 784)\n",
    "  tf.keras.layers.Dense(4, activation=\"relu\"),\n",
    "  tf.keras.layers.Dense(4, activation=\"relu\"),\n",
    "  tf.keras.layers.Dense(10, activation=\"softmax\") # output shape is 10, activation is softmax\n",
    "])\n",
    "\n",
    "# Compile the model\n",
    "model_13.compile(loss=tf.keras.losses.SparseCategoricalCrossentropy(),\n",
    "                 optimizer=tf.keras.optimizers.Adam(),\n",
    "                 metrics=[\"accuracy\"])\n",
    "\n",
    "# Create the learning rate callback\n",
    "lr_scheduler = tf.keras.callbacks.LearningRateScheduler(lambda epoch: 1e-3 * 10**(epoch/20))\n",
    "\n",
    "# Fit the model\n",
    "find_lr_history = model_13.fit(train_data,\n",
    "                               train_labels,\n",
    "                               epochs=40, # model already doing pretty good with current LR, probably don't need 100 epochs\n",
    "                               validation_data=(test_data, test_labels),\n",
    "                               callbacks=[lr_scheduler])"
   ]
  },
  {
   "cell_type": "code",
   "execution_count": 67,
   "metadata": {},
   "outputs": [
    {
     "data": {
      "text/plain": [
       "Text(0.5, 1.0, 'Finding the ideal learning rate')"
      ]
     },
     "execution_count": 67,
     "metadata": {},
     "output_type": "execute_result"
    },
    {
     "data": {
      "image/png": "[encoded data removed]",
      "text/plain": [
       "<Figure size 432x288 with 1 Axes>"
      ]
     },
     "metadata": {
      "needs_background": "light"
     },
     "output_type": "display_data"
    }
   ],
   "source": [
    "import numpy as np\n",
    "import matplotlib.pyplot as plt\n",
    "lrs = 1e-3 * (10**(np.arange(40)/20))\n",
    "plt.semilogx(lrs, find_lr_history.history[\"loss\"])\n",
    "plt.xlabel(\"Learning rate\")\n",
    "plt.ylabel(\"Loss\")\n",
    "plt.title(\"Finding the ideal learning rate\")"
   ]
  },
  {
   "cell_type": "code",
   "execution_count": 69,
   "metadata": {},
   "outputs": [
    {
     "name": "stdout",
     "output_type": "stream",
     "text": [
      "Epoch 1/20\n",
      "1875/1875 [==============================] - 2s 1ms/step - loss: 1.7350 - accuracy: 0.2307 - val_loss: 1.5864 - val_accuracy: 0.2829\n",
      "Epoch 2/20\n",
      "1875/1875 [==============================] - 2s 1ms/step - loss: 1.5418 - accuracy: 0.3097 - val_loss: 1.5160 - val_accuracy: 0.3281\n",
      "Epoch 3/20\n",
      "1875/1875 [==============================] - 2s 1ms/step - loss: 1.3705 - accuracy: 0.4042 - val_loss: 1.0726 - val_accuracy: 0.5453\n",
      "Epoch 4/20\n",
      "1875/1875 [==============================] - 2s 1ms/step - loss: 0.9681 - accuracy: 0.5964 - val_loss: 0.9299 - val_accuracy: 0.6186\n",
      "Epoch 5/20\n",
      "1875/1875 [==============================] - 3s 1ms/step - loss: 0.8917 - accuracy: 0.6300 - val_loss: 0.8933 - val_accuracy: 0.6430\n",
      "Epoch 6/20\n",
      "1875/1875 [==============================] - 2s 1ms/step - loss: 0.8504 - accuracy: 0.6555 - val_loss: 0.8505 - val_accuracy: 0.6619\n",
      "Epoch 7/20\n",
      "1875/1875 [==============================] - 2s 1ms/step - loss: 0.8134 - accuracy: 0.6690 - val_loss: 0.8311 - val_accuracy: 0.6710\n",
      "Epoch 8/20\n",
      "1875/1875 [==============================] - 2s 1ms/step - loss: 0.7999 - accuracy: 0.6741 - val_loss: 0.8260 - val_accuracy: 0.6747\n",
      "Epoch 9/20\n",
      "1875/1875 [==============================] - 2s 1ms/step - loss: 0.7912 - accuracy: 0.6781 - val_loss: 0.8173 - val_accuracy: 0.6781\n",
      "Epoch 10/20\n",
      "1875/1875 [==============================] - 2s 1ms/step - loss: 0.7852 - accuracy: 0.6787 - val_loss: 0.8127 - val_accuracy: 0.6730\n",
      "Epoch 11/20\n",
      "1875/1875 [==============================] - 2s 1ms/step - loss: 0.7785 - accuracy: 0.6802 - val_loss: 0.8093 - val_accuracy: 0.6765\n",
      "Epoch 12/20\n",
      "1875/1875 [==============================] - 2s 1ms/step - loss: 0.7741 - accuracy: 0.6836 - val_loss: 0.8191 - val_accuracy: 0.6775\n",
      "Epoch 13/20\n",
      "1875/1875 [==============================] - 2s 1ms/step - loss: 0.7698 - accuracy: 0.6834 - val_loss: 0.8027 - val_accuracy: 0.6774\n",
      "Epoch 14/20\n",
      "1875/1875 [==============================] - 2s 1ms/step - loss: 0.7657 - accuracy: 0.6847 - val_loss: 0.8028 - val_accuracy: 0.6818\n",
      "Epoch 15/20\n",
      "1875/1875 [==============================] - 2s 1ms/step - loss: 0.7613 - accuracy: 0.6881 - val_loss: 0.7967 - val_accuracy: 0.6872\n",
      "Epoch 16/20\n",
      "1875/1875 [==============================] - 2s 1ms/step - loss: 0.7576 - accuracy: 0.6883 - val_loss: 0.7950 - val_accuracy: 0.6851\n",
      "Epoch 17/20\n",
      "1875/1875 [==============================] - 2s 1ms/step - loss: 0.7540 - accuracy: 0.6898 - val_loss: 0.7886 - val_accuracy: 0.6880\n",
      "Epoch 18/20\n",
      "1875/1875 [==============================] - 2s 1ms/step - loss: 0.7478 - accuracy: 0.6934 - val_loss: 0.7881 - val_accuracy: 0.6848\n",
      "Epoch 19/20\n",
      "1875/1875 [==============================] - 2s 1ms/step - loss: 0.7433 - accuracy: 0.6959 - val_loss: 0.7874 - val_accuracy: 0.6761\n",
      "Epoch 20/20\n",
      "1875/1875 [==============================] - 2s 1ms/step - loss: 0.7332 - accuracy: 0.7095 - val_loss: 0.7776 - val_accuracy: 0.7141\n"
     ]
    }
   ],
   "source": [
    "model_14 = tf.keras.Sequential([\n",
    "  tf.keras.layers.Flatten(input_shape=(28, 28)), # input layer (we had to reshape 28x28 to 784)\n",
    "  tf.keras.layers.Dense(4, activation=\"relu\"),\n",
    "  tf.keras.layers.Dense(4, activation=\"relu\"),\n",
    "  tf.keras.layers.Dense(10, activation=\"softmax\") # output shape is 10, activation is softmax\n",
    "])\n",
    "\n",
    "# Compile the model\n",
    "model_14.compile(loss=tf.keras.losses.SparseCategoricalCrossentropy(),\n",
    "                 optimizer=tf.keras.optimizers.Adam(learning_rate=0.001), # ideal learning rate (same as default)\n",
    "                 metrics=[\"accuracy\"])\n",
    "\n",
    "# Fit the model\n",
    "history = model_14.fit(train_data,\n",
    "                       train_labels,\n",
    "                       epochs=20,\n",
    "                       validation_data=(test_data, test_labels))"
   ]
  },
  {
   "cell_type": "code",
   "execution_count": 70,
   "metadata": {},
   "outputs": [],
   "source": [
    "import itertools\n",
    "from sklearn.metrics import confusion_matrix\n",
    "\n",
    "def make_confusion_matrix(y_true, y_pred, classes=None, figsize=(10, 10), text_size=15):\n",
    "  cm = confusion_matrix(y_true, y_pred)\n",
    "  cm_norm = cm.astype(\"float\") / cm.sum(axis=1)[:, np.newaxis]\n",
    "  n_classes = cm.shape[0]\n",
    "\n",
    "  fig, ax = plt.subplots(figsize=figsize)\n",
    "  cax = ax.matshow(cm, cmap=plt.cm.Blues)\n",
    "  fig.colorbar(cax)\n",
    "\n",
    "  if classes:\n",
    "    labels = classes\n",
    "  else:\n",
    "    labels = np.arange(cm.shape[0])\n",
    "  \n",
    "  ax.set(title=\"Confusion Matrix\",\n",
    "         xlabel=\"Predicted label\",\n",
    "         ylabel=\"True label\",\n",
    "         xticks=np.arange(n_classes),\n",
    "         yticks=np.arange(n_classes), \n",
    "         xticklabels=labels,\n",
    "         yticklabels=labels)\n",
    "  \n",
    "  ax.xaxis.set_label_position(\"bottom\")\n",
    "  ax.xaxis.tick_bottom()\n",
    "\n",
    "  threshold = (cm.max() + cm.min()) / 2.\n",
    "\n",
    "  for i, j in itertools.product(range(cm.shape[0]), range(cm.shape[1])):\n",
    "    plt.text(j, i, f\"{cm[i, j]} ({cm_norm[i, j]*100:.1f}%)\",\n",
    "             horizontalalignment=\"center\",\n",
    "             color=\"white\" if cm[i, j] > threshold else \"black\",\n",
    "             size=text_size)"
   ]
  },
  {
   "cell_type": "code",
   "execution_count": 71,
   "metadata": {},
   "outputs": [
    {
     "data": {
      "text/plain": [
       "array([[7.82817011e-08, 5.46434398e-10, 7.08728909e-11, 4.06564068e-05,\n",
       "        9.12127796e-09, 1.72481045e-01, 7.73300872e-06, 1.05147816e-01,\n",
       "        1.53924944e-02, 7.06930161e-01],\n",
       "       [3.20323743e-02, 4.08265208e-07, 4.29792315e-01, 1.04120548e-03,\n",
       "        3.55354905e-01, 1.90544796e-07, 1.79060832e-01, 1.03233977e-09,\n",
       "        2.71782442e-03, 2.94636288e-10],\n",
       "       [6.16867192e-06, 9.94800806e-01, 1.10034533e-13, 3.74275609e-03,\n",
       "        8.78266698e-13, 1.35498442e-06, 3.50109997e-10, 1.44889939e-03,\n",
       "        4.39156132e-15, 9.96437915e-12],\n",
       "       [7.80674441e-07, 9.97402608e-01, 2.21586699e-15, 1.15441321e-03,\n",
       "        2.18575412e-14, 4.47667475e-07, 1.60032421e-11, 1.44166022e-03,\n",
       "        1.07909900e-16, 2.08552012e-12],\n",
       "       [1.99176311e-01, 4.43312019e-05, 2.16781661e-01, 2.37711109e-02,\n",
       "        2.50946701e-01, 6.87950569e-06, 3.06691080e-01, 1.57681569e-07,\n",
       "        2.58179102e-03, 6.27905461e-09]], dtype=float32)"
      ]
     },
     "execution_count": 71,
     "metadata": {},
     "output_type": "execute_result"
    }
   ],
   "source": [
    "y_probs = model_14.predict(test_data)\n",
    "\n",
    "y_probs[:5]"
   ]
  },
  {
   "cell_type": "code",
   "execution_count": 72,
   "metadata": {},
   "outputs": [
    {
     "data": {
      "text/plain": [
       "(9, 'Ankle boot')"
      ]
     },
     "execution_count": 72,
     "metadata": {},
     "output_type": "execute_result"
    }
   ],
   "source": [
    "y_probs[0].argmax(), class_names[y_probs[0].argmax()]"
   ]
  },
  {
   "cell_type": "code",
   "execution_count": 73,
   "metadata": {},
   "outputs": [
    {
     "data": {
      "text/plain": [
       "array([9, 2, 1, 1, 6, 1, 2, 8, 5, 7], dtype=int64)"
      ]
     },
     "execution_count": 73,
     "metadata": {},
     "output_type": "execute_result"
    }
   ],
   "source": [
    "y_preds = y_probs.argmax(axis=1)\n",
    "\n",
    "y_preds[:10]"
   ]
  },
  {
   "cell_type": "code",
   "execution_count": 74,
   "metadata": {},
   "outputs": [
    {
     "data": {
      "text/plain": [
       "array([[748,   0,  68,  66,  11,   7,  91,   0,   9,   0],\n",
       "       [ 19, 906,   5,  62,   2,   0,   5,   0,   1,   0],\n",
       "       [ 42,   0, 827,   3,  41,   1,  77,   0,   9,   0],\n",
       "       [231,  35,  23, 630,   8,   1,  67,   0,   5,   0],\n",
       "       [ 46,   0, 660,  11, 110,   3, 158,   0,  12,   0],\n",
       "       [  0,   0,   0,  11,   0, 911,   0,  52,  14,  12],\n",
       "       [217,   0, 261,  23,  90,   5, 360,   0,  44,   0],\n",
       "       [  0,   0,   0,   6,   0,  89,   0, 839,   0,  66],\n",
       "       [  1,   0,  14,   9,   4,  44,  28,   3, 894,   3],\n",
       "       [  0,   0,   0,   0,   0,  31,   0,  35,  18, 916]], dtype=int64)"
      ]
     },
     "execution_count": 74,
     "metadata": {},
     "output_type": "execute_result"
    }
   ],
   "source": [
    "from sklearn.metrics import confusion_matrix\n",
    "confusion_matrix(y_true=test_labels, \n",
    "                 y_pred=y_preds)"
   ]
  },
  {
   "cell_type": "code",
   "execution_count": 75,
   "metadata": {},
   "outputs": [],
   "source": [
    "import random\n",
    "def plot_random_image(model, images, true_labels, classes):\n",
    "  i = random.randint(0, len(images))\n",
    "  \n",
    "  target_image = images[i]\n",
    "  pred_probs = model.predict(target_image.reshape(1, 28, 28))\n",
    "  pred_label = classes[pred_probs.argmax()]\n",
    "  true_label = classes[true_labels[i]]\n",
    "\n",
    "  plt.imshow(target_image, cmap=plt.cm.binary)\n",
    "  if pred_label == true_label:\n",
    "    color = \"green\"\n",
    "  else:\n",
    "    color = \"red\"\n",
    "\n",
    "  plt.xlabel(\"Pred: {} {:2.0f}% (True: {})\".format(pred_label,\n",
    "                                                   100*tf.reduce_max(pred_probs),\n",
    "                                                   true_label),\n",
    "             color=color)"
   ]
  },
  {
   "cell_type": "code",
   "execution_count": 76,
   "metadata": {},
   "outputs": [
    {
     "data": {
      "text/plain": [
       "[<tensorflow.python.keras.layers.core.Flatten at 0x177af7b2c40>,\n",
       " <tensorflow.python.keras.layers.core.Dense at 0x177af7b2e80>,\n",
       " <tensorflow.python.keras.layers.core.Dense at 0x177af65c730>,\n",
       " <tensorflow.python.keras.layers.core.Dense at 0x177af6a7130>]"
      ]
     },
     "execution_count": 76,
     "metadata": {},
     "output_type": "execute_result"
    }
   ],
   "source": [
    "model_14.layers"
   ]
  },
  {
   "cell_type": "code",
   "execution_count": 77,
   "metadata": {},
   "outputs": [
    {
     "data": {
      "text/plain": [
       "(array([[-0.07412487, -0.06533302, -0.49624655,  0.5588567 ],\n",
       "        [ 0.03573839, -0.08554915, -0.0070035 ,  1.2996769 ],\n",
       "        [-0.06760239,  0.19950406, -1.3602498 ,  0.5130117 ],\n",
       "        ...,\n",
       "        [ 0.00543382,  0.3343258 , -0.05106543, -0.05640382],\n",
       "        [ 0.05481194, -0.44262043,  0.36522502, -0.01095108],\n",
       "        [ 0.03230124, -0.5303721 , -0.22664301, -0.20406808]],\n",
       "       dtype=float32),\n",
       " (784, 4))"
      ]
     },
     "execution_count": 77,
     "metadata": {},
     "output_type": "execute_result"
    }
   ],
   "source": [
    "weights, biases = model_14.layers[1].get_weights()\n",
    "\n",
    "weights, weights.shape"
   ]
  },
  {
   "cell_type": "code",
   "execution_count": 78,
   "metadata": {},
   "outputs": [
    {
     "data": {
      "text/plain": [
       "(array([-0.01768141,  0.26558354,  2.1746824 ,  2.9452262 ], dtype=float32),\n",
       " (4,))"
      ]
     },
     "execution_count": 78,
     "metadata": {},
     "output_type": "execute_result"
    }
   ],
   "source": [
    "biases, biases.shape"
   ]
  },
  {
   "cell_type": "code",
   "execution_count": 79,
   "metadata": {},
   "outputs": [
    {
     "name": "stdout",
     "output_type": "stream",
     "text": [
      "Model: \"sequential_7\"\n",
      "_________________________________________________________________\n",
      "Layer (type)                 Output Shape              Param #   \n",
      "=================================================================\n",
      "flatten_4 (Flatten)          (None, 784)               0         \n",
      "_________________________________________________________________\n",
      "dense_19 (Dense)             (None, 4)                 3140      \n",
      "_________________________________________________________________\n",
      "dense_20 (Dense)             (None, 4)                 20        \n",
      "_________________________________________________________________\n",
      "dense_21 (Dense)             (None, 10)                50        \n",
      "=================================================================\n",
      "Total params: 3,210\n",
      "Trainable params: 3,210\n",
      "Non-trainable params: 0\n",
      "_________________________________________________________________\n"
     ]
    }
   ],
   "source": [
    "model_14.summary()"
   ]
  }
 ],
 "metadata": {
  "interpreter": {
   "hash": "75cd0ae9ecbec3ab72299e27db8b610059db44a2f7a4c5d8b808971e07cf7af1"
  },
  "kernelspec": {
   "display_name": "Python 3.8.8 64-bit ('base': conda)",
   "name": "python3"
  },
  "language_info": {
   "codemirror_mode": {
    "name": "ipython",
    "version": 3
   },
   "file_extension": ".py",
   "mimetype": "text/x-python",
   "name": "python",
   "nbconvert_exporter": "python",
   "pygments_lexer": "ipython3",
   "version": "3.8.8"
  },
  "orig_nbformat": 4
 },
 "nbformat": 4,
 "nbformat_minor": 2
}
